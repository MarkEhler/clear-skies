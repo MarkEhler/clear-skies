{
 "cells": [
  {
   "cell_type": "markdown",
   "metadata": {},
   "source": [
    "# Clear Sky days"
   ]
  },
  {
   "cell_type": "markdown",
   "metadata": {},
   "source": [
    "The goal of this notebook is to label clear sky days on the master datasheet and create a first attempt at a model that will predict a day of clear sky production for comparison against a more complex model"
   ]
  },
  {
   "cell_type": "code",
   "execution_count": 440,
   "metadata": {},
   "outputs": [],
   "source": [
    "import pandas as pd\n",
    "import numpy as np\n",
    "import matplotlib.pyplot as plt\n",
    "import pvlib as pv\n",
    "# import "
   ]
  },
  {
   "cell_type": "code",
   "execution_count": 441,
   "metadata": {},
   "outputs": [
    {
     "data": {
      "text/plain": [
       "Index(['timestamp_', 'AC_Cap', 'Array_Azimuth', 'Array_Tilt', 'DC_Cap',\n",
       "       'Elevation', 'Hourly_kWh_avg', 'Latitude', 'Longitude', 'Station_ID',\n",
       "       'Top. azimuth angle (eastward from N)',\n",
       "       'Top. azimuth angle (westward from S)', 'Topocentric zenith angle',\n",
       "       'air_temp_set_1', 'dew_point_temperature_set_1d', 'kWh',\n",
       "       'peak_wind_direction_set_1', 'peak_wind_speed_set_1',\n",
       "       'precip_accum_set_1', 'relative_humidity_set_1',\n",
       "       'solar_radiation_set_1', 'volt_set_1', 'wind_cardinal_direction_set_1d',\n",
       "       'wind_direction_set_1', 'wind_gust_set_1', 'wind_speed_set_1',\n",
       "       'timestamp_.1', 'clearday', 'qc'],\n",
       "      dtype='object')"
      ]
     },
     "execution_count": 441,
     "metadata": {},
     "output_type": "execute_result"
    }
   ],
   "source": [
    "# using unfiltered datasheet for now, future iterations will test additional formations\n",
    "# esxv1 station shaded to afternoon sun in the winter months\n",
    "\n",
    "esxv1 = pd.read_csv('esxv1_dense_feb10.csv')\n",
    "lsc07 = pd.read_csv('lsc07_dense_feb13.csv')\n",
    "esxv1.columns"
   ]
  },
  {
   "cell_type": "code",
   "execution_count": 442,
   "metadata": {},
   "outputs": [
    {
     "data": {
      "text/html": [
       "<div>\n",
       "<style scoped>\n",
       "    .dataframe tbody tr th:only-of-type {\n",
       "        vertical-align: middle;\n",
       "    }\n",
       "\n",
       "    .dataframe tbody tr th {\n",
       "        vertical-align: top;\n",
       "    }\n",
       "\n",
       "    .dataframe thead th {\n",
       "        text-align: right;\n",
       "    }\n",
       "</style>\n",
       "<table border=\"1\" class=\"dataframe\">\n",
       "  <thead>\n",
       "    <tr style=\"text-align: right;\">\n",
       "      <th></th>\n",
       "      <th>timestamp_</th>\n",
       "      <th>AC_Cap</th>\n",
       "      <th>Array_Azimuth</th>\n",
       "      <th>Array_Tilt</th>\n",
       "      <th>DC_Cap</th>\n",
       "      <th>Elevation</th>\n",
       "      <th>Hourly_kWh_avg</th>\n",
       "      <th>Latitude</th>\n",
       "      <th>Longitude</th>\n",
       "      <th>Station_ID</th>\n",
       "      <th>...</th>\n",
       "      <th>relative_humidity_set_1</th>\n",
       "      <th>solar_radiation_set_1</th>\n",
       "      <th>volt_set_1</th>\n",
       "      <th>wind_cardinal_direction_set_1d</th>\n",
       "      <th>wind_direction_set_1</th>\n",
       "      <th>wind_gust_set_1</th>\n",
       "      <th>wind_speed_set_1</th>\n",
       "      <th>timestamp_.1</th>\n",
       "      <th>clearday</th>\n",
       "      <th>qc</th>\n",
       "    </tr>\n",
       "    <tr>\n",
       "      <th>timestamp_</th>\n",
       "      <th></th>\n",
       "      <th></th>\n",
       "      <th></th>\n",
       "      <th></th>\n",
       "      <th></th>\n",
       "      <th></th>\n",
       "      <th></th>\n",
       "      <th></th>\n",
       "      <th></th>\n",
       "      <th></th>\n",
       "      <th></th>\n",
       "      <th></th>\n",
       "      <th></th>\n",
       "      <th></th>\n",
       "      <th></th>\n",
       "      <th></th>\n",
       "      <th></th>\n",
       "      <th></th>\n",
       "      <th></th>\n",
       "      <th></th>\n",
       "      <th></th>\n",
       "    </tr>\n",
       "  </thead>\n",
       "  <tbody>\n",
       "    <tr>\n",
       "      <th>2019-12-31 23:00:00</th>\n",
       "      <td>2019-12-31 23:00:00</td>\n",
       "      <td>1988.0</td>\n",
       "      <td>180.0</td>\n",
       "      <td>20.0</td>\n",
       "      <td>2086.2</td>\n",
       "      <td>100.0</td>\n",
       "      <td>0.0</td>\n",
       "      <td>44.48057</td>\n",
       "      <td>-73.170866</td>\n",
       "      <td>ESXV1</td>\n",
       "      <td>...</td>\n",
       "      <td>96.0</td>\n",
       "      <td>0.0</td>\n",
       "      <td>13.1</td>\n",
       "      <td>SW</td>\n",
       "      <td>219.0</td>\n",
       "      <td>1.79</td>\n",
       "      <td>0.9</td>\n",
       "      <td>2019-12-31 23:00:00</td>\n",
       "      <td>0</td>\n",
       "      <td>0</td>\n",
       "    </tr>\n",
       "  </tbody>\n",
       "</table>\n",
       "<p>1 rows × 29 columns</p>\n",
       "</div>"
      ],
      "text/plain": [
       "                             timestamp_  AC_Cap  Array_Azimuth  Array_Tilt  \\\n",
       "timestamp_                                                                   \n",
       "2019-12-31 23:00:00 2019-12-31 23:00:00  1988.0          180.0        20.0   \n",
       "\n",
       "                     DC_Cap  Elevation  Hourly_kWh_avg  Latitude  Longitude  \\\n",
       "timestamp_                                                                    \n",
       "2019-12-31 23:00:00  2086.2      100.0             0.0  44.48057 -73.170866   \n",
       "\n",
       "                    Station_ID  ...  relative_humidity_set_1  \\\n",
       "timestamp_                      ...                            \n",
       "2019-12-31 23:00:00      ESXV1  ...                     96.0   \n",
       "\n",
       "                     solar_radiation_set_1  volt_set_1  \\\n",
       "timestamp_                                               \n",
       "2019-12-31 23:00:00                    0.0        13.1   \n",
       "\n",
       "                     wind_cardinal_direction_set_1d  wind_direction_set_1  \\\n",
       "timestamp_                                                                  \n",
       "2019-12-31 23:00:00                              SW                 219.0   \n",
       "\n",
       "                     wind_gust_set_1  wind_speed_set_1         timestamp_.1  \\\n",
       "timestamp_                                                                    \n",
       "2019-12-31 23:00:00             1.79               0.9  2019-12-31 23:00:00   \n",
       "\n",
       "                     clearday  qc  \n",
       "timestamp_                         \n",
       "2019-12-31 23:00:00         0   0  \n",
       "\n",
       "[1 rows x 29 columns]"
      ]
     },
     "execution_count": 442,
     "metadata": {},
     "output_type": "execute_result"
    }
   ],
   "source": [
    "esxv1['clearday'] = 0\n",
    "lsc07['clearday'] = 0\n",
    "esxv1['qc'] = 0\n",
    "lsc07['qc'] = 0\n",
    "esxv1['timestamp_'] = pd.to_datetime(esxv1['timestamp_'])\n",
    "lsc07['Timestamp_'] = pd.to_datetime(lsc07['Timestamp_'])\n",
    "esxv1.set_index(esxv1['timestamp_'], inplace=True)\n",
    "lsc07.set_index(lsc07['Timestamp_'], inplace=True)\n",
    "esxv1.tail(1)"
   ]
  },
  {
   "cell_type": "code",
   "execution_count": 443,
   "metadata": {},
   "outputs": [
    {
     "data": {
      "text/html": [
       "<div>\n",
       "<style scoped>\n",
       "    .dataframe tbody tr th:only-of-type {\n",
       "        vertical-align: middle;\n",
       "    }\n",
       "\n",
       "    .dataframe tbody tr th {\n",
       "        vertical-align: top;\n",
       "    }\n",
       "\n",
       "    .dataframe thead th {\n",
       "        text-align: right;\n",
       "    }\n",
       "</style>\n",
       "<table border=\"1\" class=\"dataframe\">\n",
       "  <thead>\n",
       "    <tr style=\"text-align: right;\">\n",
       "      <th></th>\n",
       "      <th>Timestamp_</th>\n",
       "      <th>Elevation</th>\n",
       "      <th>Latitude</th>\n",
       "      <th>Longitude</th>\n",
       "      <th>Station_ID</th>\n",
       "      <th>Top. azimuth angle (eastward from N)</th>\n",
       "      <th>Top. azimuth angle (westward from S)</th>\n",
       "      <th>Topocentric zenith angle</th>\n",
       "      <th>air_temp_set_1</th>\n",
       "      <th>altimeter_set_1</th>\n",
       "      <th>...</th>\n",
       "      <th>relative_humidity_set_1</th>\n",
       "      <th>sea_level_pressure_set_1d</th>\n",
       "      <th>solar_radiation_set_1</th>\n",
       "      <th>wind_cardinal_direction_set_1d</th>\n",
       "      <th>wind_direction_set_1</th>\n",
       "      <th>wind_gust_set_1</th>\n",
       "      <th>wind_speed_set_1</th>\n",
       "      <th>Timestamp_.1</th>\n",
       "      <th>clearday</th>\n",
       "      <th>qc</th>\n",
       "    </tr>\n",
       "    <tr>\n",
       "      <th>Timestamp_</th>\n",
       "      <th></th>\n",
       "      <th></th>\n",
       "      <th></th>\n",
       "      <th></th>\n",
       "      <th></th>\n",
       "      <th></th>\n",
       "      <th></th>\n",
       "      <th></th>\n",
       "      <th></th>\n",
       "      <th></th>\n",
       "      <th></th>\n",
       "      <th></th>\n",
       "      <th></th>\n",
       "      <th></th>\n",
       "      <th></th>\n",
       "      <th></th>\n",
       "      <th></th>\n",
       "      <th></th>\n",
       "      <th></th>\n",
       "      <th></th>\n",
       "      <th></th>\n",
       "    </tr>\n",
       "  </thead>\n",
       "  <tbody>\n",
       "    <tr>\n",
       "      <th>2018-01-01 08:00:00</th>\n",
       "      <td>2018-01-01 08:00:00</td>\n",
       "      <td>335.0</td>\n",
       "      <td>43.822757</td>\n",
       "      <td>-72.590538</td>\n",
       "      <td>LSC07</td>\n",
       "      <td>152.443608</td>\n",
       "      <td>332.443608</td>\n",
       "      <td>71.683404</td>\n",
       "      <td>-23.89</td>\n",
       "      <td>101841.434166</td>\n",
       "      <td>...</td>\n",
       "      <td>80.0</td>\n",
       "      <td>103952.613571</td>\n",
       "      <td>8.0</td>\n",
       "      <td>NNE</td>\n",
       "      <td>26.0</td>\n",
       "      <td>3.770714</td>\n",
       "      <td>0.640714</td>\n",
       "      <td>2018-01-01 08:00:00</td>\n",
       "      <td>0</td>\n",
       "      <td>0</td>\n",
       "    </tr>\n",
       "  </tbody>\n",
       "</table>\n",
       "<p>1 rows × 25 columns</p>\n",
       "</div>"
      ],
      "text/plain": [
       "                             Timestamp_  Elevation   Latitude  Longitude  \\\n",
       "Timestamp_                                                                 \n",
       "2018-01-01 08:00:00 2018-01-01 08:00:00      335.0  43.822757 -72.590538   \n",
       "\n",
       "                    Station_ID  Top. azimuth angle (eastward from N)  \\\n",
       "Timestamp_                                                             \n",
       "2018-01-01 08:00:00      LSC07                            152.443608   \n",
       "\n",
       "                     Top. azimuth angle (westward from S)  \\\n",
       "Timestamp_                                                  \n",
       "2018-01-01 08:00:00                            332.443608   \n",
       "\n",
       "                     Topocentric zenith angle  air_temp_set_1  \\\n",
       "Timestamp_                                                      \n",
       "2018-01-01 08:00:00                 71.683404          -23.89   \n",
       "\n",
       "                     altimeter_set_1  ...  relative_humidity_set_1  \\\n",
       "Timestamp_                            ...                            \n",
       "2018-01-01 08:00:00    101841.434166  ...                     80.0   \n",
       "\n",
       "                     sea_level_pressure_set_1d  solar_radiation_set_1  \\\n",
       "Timestamp_                                                              \n",
       "2018-01-01 08:00:00              103952.613571                    8.0   \n",
       "\n",
       "                     wind_cardinal_direction_set_1d  wind_direction_set_1  \\\n",
       "Timestamp_                                                                  \n",
       "2018-01-01 08:00:00                             NNE                  26.0   \n",
       "\n",
       "                     wind_gust_set_1  wind_speed_set_1         Timestamp_.1  \\\n",
       "Timestamp_                                                                    \n",
       "2018-01-01 08:00:00         3.770714          0.640714  2018-01-01 08:00:00   \n",
       "\n",
       "                    clearday  qc  \n",
       "Timestamp_                        \n",
       "2018-01-01 08:00:00        0   0  \n",
       "\n",
       "[1 rows x 25 columns]"
      ]
     },
     "execution_count": 443,
     "metadata": {},
     "output_type": "execute_result"
    }
   ],
   "source": [
    "lsc07.head(1)"
   ]
  },
  {
   "cell_type": "code",
   "execution_count": 449,
   "metadata": {},
   "outputs": [
    {
     "name": "stderr",
     "output_type": "stream",
     "text": [
      "C:\\Users\\Mark\\AppData\\Local\\Continuum\\anaconda3\\lib\\site-packages\\ipykernel_launcher.py:5: SettingWithCopyWarning: \n",
      "A value is trying to be set on a copy of a slice from a DataFrame\n",
      "\n",
      "See the caveats in the documentation: http://pandas.pydata.org/pandas-docs/stable/indexing.html#indexing-view-versus-copy\n",
      "  \"\"\"\n",
      "C:\\Users\\Mark\\AppData\\Local\\Continuum\\anaconda3\\lib\\site-packages\\ipykernel_launcher.py:6: SettingWithCopyWarning: \n",
      "A value is trying to be set on a copy of a slice from a DataFrame\n",
      "\n",
      "See the caveats in the documentation: http://pandas.pydata.org/pandas-docs/stable/indexing.html#indexing-view-versus-copy\n",
      "  \n",
      "C:\\Users\\Mark\\AppData\\Local\\Continuum\\anaconda3\\lib\\site-packages\\ipykernel_launcher.py:9: SettingWithCopyWarning: \n",
      "A value is trying to be set on a copy of a slice from a DataFrame\n",
      "\n",
      "See the caveats in the documentation: http://pandas.pydata.org/pandas-docs/stable/indexing.html#indexing-view-versus-copy\n",
      "  if __name__ == '__main__':\n",
      "C:\\Users\\Mark\\AppData\\Local\\Continuum\\anaconda3\\lib\\site-packages\\ipykernel_launcher.py:11: SettingWithCopyWarning: \n",
      "A value is trying to be set on a copy of a slice from a DataFrame\n",
      "\n",
      "See the caveats in the documentation: http://pandas.pydata.org/pandas-docs/stable/indexing.html#indexing-view-versus-copy\n",
      "  # This is added back by InteractiveShellApp.init_path()\n",
      "C:\\Users\\Mark\\AppData\\Local\\Continuum\\anaconda3\\lib\\site-packages\\ipykernel_launcher.py:14: SettingWithCopyWarning: \n",
      "A value is trying to be set on a copy of a slice from a DataFrame\n",
      "\n",
      "See the caveats in the documentation: http://pandas.pydata.org/pandas-docs/stable/indexing.html#indexing-view-versus-copy\n",
      "  \n",
      "C:\\Users\\Mark\\AppData\\Local\\Continuum\\anaconda3\\lib\\site-packages\\ipykernel_launcher.py:15: SettingWithCopyWarning: \n",
      "A value is trying to be set on a copy of a slice from a DataFrame\n",
      "\n",
      "See the caveats in the documentation: http://pandas.pydata.org/pandas-docs/stable/indexing.html#indexing-view-versus-copy\n",
      "  from ipykernel import kernelapp as app\n",
      "C:\\Users\\Mark\\AppData\\Local\\Continuum\\anaconda3\\lib\\site-packages\\ipykernel_launcher.py:18: SettingWithCopyWarning: \n",
      "A value is trying to be set on a copy of a slice from a DataFrame\n",
      "\n",
      "See the caveats in the documentation: http://pandas.pydata.org/pandas-docs/stable/indexing.html#indexing-view-versus-copy\n",
      "C:\\Users\\Mark\\AppData\\Local\\Continuum\\anaconda3\\lib\\site-packages\\ipykernel_launcher.py:19: SettingWithCopyWarning: \n",
      "A value is trying to be set on a copy of a slice from a DataFrame\n",
      "\n",
      "See the caveats in the documentation: http://pandas.pydata.org/pandas-docs/stable/indexing.html#indexing-view-versus-copy\n",
      "C:\\Users\\Mark\\AppData\\Local\\Continuum\\anaconda3\\lib\\site-packages\\ipykernel_launcher.py:22: SettingWithCopyWarning: \n",
      "A value is trying to be set on a copy of a slice from a DataFrame\n",
      "\n",
      "See the caveats in the documentation: http://pandas.pydata.org/pandas-docs/stable/indexing.html#indexing-view-versus-copy\n",
      "C:\\Users\\Mark\\AppData\\Local\\Continuum\\anaconda3\\lib\\site-packages\\ipykernel_launcher.py:23: SettingWithCopyWarning: \n",
      "A value is trying to be set on a copy of a slice from a DataFrame\n",
      "\n",
      "See the caveats in the documentation: http://pandas.pydata.org/pandas-docs/stable/indexing.html#indexing-view-versus-copy\n",
      "C:\\Users\\Mark\\AppData\\Local\\Continuum\\anaconda3\\lib\\site-packages\\ipykernel_launcher.py:26: SettingWithCopyWarning: \n",
      "A value is trying to be set on a copy of a slice from a DataFrame\n",
      "\n",
      "See the caveats in the documentation: http://pandas.pydata.org/pandas-docs/stable/indexing.html#indexing-view-versus-copy\n",
      "C:\\Users\\Mark\\AppData\\Local\\Continuum\\anaconda3\\lib\\site-packages\\ipykernel_launcher.py:27: SettingWithCopyWarning: \n",
      "A value is trying to be set on a copy of a slice from a DataFrame\n",
      "\n",
      "See the caveats in the documentation: http://pandas.pydata.org/pandas-docs/stable/indexing.html#indexing-view-versus-copy\n",
      "C:\\Users\\Mark\\AppData\\Local\\Continuum\\anaconda3\\lib\\site-packages\\ipykernel_launcher.py:30: SettingWithCopyWarning: \n",
      "A value is trying to be set on a copy of a slice from a DataFrame\n",
      "\n",
      "See the caveats in the documentation: http://pandas.pydata.org/pandas-docs/stable/indexing.html#indexing-view-versus-copy\n",
      "C:\\Users\\Mark\\AppData\\Local\\Continuum\\anaconda3\\lib\\site-packages\\ipykernel_launcher.py:31: SettingWithCopyWarning: \n",
      "A value is trying to be set on a copy of a slice from a DataFrame\n",
      "\n",
      "See the caveats in the documentation: http://pandas.pydata.org/pandas-docs/stable/indexing.html#indexing-view-versus-copy\n",
      "C:\\Users\\Mark\\AppData\\Local\\Continuum\\anaconda3\\lib\\site-packages\\ipykernel_launcher.py:34: SettingWithCopyWarning: \n",
      "A value is trying to be set on a copy of a slice from a DataFrame\n",
      "\n",
      "See the caveats in the documentation: http://pandas.pydata.org/pandas-docs/stable/indexing.html#indexing-view-versus-copy\n",
      "C:\\Users\\Mark\\AppData\\Local\\Continuum\\anaconda3\\lib\\site-packages\\ipykernel_launcher.py:35: SettingWithCopyWarning: \n",
      "A value is trying to be set on a copy of a slice from a DataFrame\n",
      "\n",
      "See the caveats in the documentation: http://pandas.pydata.org/pandas-docs/stable/indexing.html#indexing-view-versus-copy\n",
      "C:\\Users\\Mark\\AppData\\Local\\Continuum\\anaconda3\\lib\\site-packages\\ipykernel_launcher.py:42: SettingWithCopyWarning: \n",
      "A value is trying to be set on a copy of a slice from a DataFrame\n",
      "\n",
      "See the caveats in the documentation: http://pandas.pydata.org/pandas-docs/stable/indexing.html#indexing-view-versus-copy\n",
      "C:\\Users\\Mark\\AppData\\Local\\Continuum\\anaconda3\\lib\\site-packages\\ipykernel_launcher.py:43: SettingWithCopyWarning: \n",
      "A value is trying to be set on a copy of a slice from a DataFrame\n",
      "\n",
      "See the caveats in the documentation: http://pandas.pydata.org/pandas-docs/stable/indexing.html#indexing-view-versus-copy\n",
      "C:\\Users\\Mark\\AppData\\Local\\Continuum\\anaconda3\\lib\\site-packages\\ipykernel_launcher.py:46: SettingWithCopyWarning: \n",
      "A value is trying to be set on a copy of a slice from a DataFrame\n",
      "\n",
      "See the caveats in the documentation: http://pandas.pydata.org/pandas-docs/stable/indexing.html#indexing-view-versus-copy\n",
      "C:\\Users\\Mark\\AppData\\Local\\Continuum\\anaconda3\\lib\\site-packages\\ipykernel_launcher.py:47: SettingWithCopyWarning: \n",
      "A value is trying to be set on a copy of a slice from a DataFrame\n",
      "\n",
      "See the caveats in the documentation: http://pandas.pydata.org/pandas-docs/stable/indexing.html#indexing-view-versus-copy\n",
      "C:\\Users\\Mark\\AppData\\Local\\Continuum\\anaconda3\\lib\\site-packages\\ipykernel_launcher.py:50: SettingWithCopyWarning: \n",
      "A value is trying to be set on a copy of a slice from a DataFrame\n",
      "\n",
      "See the caveats in the documentation: http://pandas.pydata.org/pandas-docs/stable/indexing.html#indexing-view-versus-copy\n",
      "C:\\Users\\Mark\\AppData\\Local\\Continuum\\anaconda3\\lib\\site-packages\\ipykernel_launcher.py:51: SettingWithCopyWarning: \n",
      "A value is trying to be set on a copy of a slice from a DataFrame\n",
      "\n",
      "See the caveats in the documentation: http://pandas.pydata.org/pandas-docs/stable/indexing.html#indexing-view-versus-copy\n",
      "C:\\Users\\Mark\\AppData\\Local\\Continuum\\anaconda3\\lib\\site-packages\\ipykernel_launcher.py:54: SettingWithCopyWarning: \n",
      "A value is trying to be set on a copy of a slice from a DataFrame\n",
      "\n",
      "See the caveats in the documentation: http://pandas.pydata.org/pandas-docs/stable/indexing.html#indexing-view-versus-copy\n",
      "C:\\Users\\Mark\\AppData\\Local\\Continuum\\anaconda3\\lib\\site-packages\\ipykernel_launcher.py:55: SettingWithCopyWarning: \n",
      "A value is trying to be set on a copy of a slice from a DataFrame\n",
      "\n",
      "See the caveats in the documentation: http://pandas.pydata.org/pandas-docs/stable/indexing.html#indexing-view-versus-copy\n",
      "C:\\Users\\Mark\\AppData\\Local\\Continuum\\anaconda3\\lib\\site-packages\\ipykernel_launcher.py:58: SettingWithCopyWarning: \n",
      "A value is trying to be set on a copy of a slice from a DataFrame\n",
      "\n",
      "See the caveats in the documentation: http://pandas.pydata.org/pandas-docs/stable/indexing.html#indexing-view-versus-copy\n",
      "C:\\Users\\Mark\\AppData\\Local\\Continuum\\anaconda3\\lib\\site-packages\\ipykernel_launcher.py:59: SettingWithCopyWarning: \n",
      "A value is trying to be set on a copy of a slice from a DataFrame\n",
      "\n",
      "See the caveats in the documentation: http://pandas.pydata.org/pandas-docs/stable/indexing.html#indexing-view-versus-copy\n",
      "C:\\Users\\Mark\\AppData\\Local\\Continuum\\anaconda3\\lib\\site-packages\\ipykernel_launcher.py:62: SettingWithCopyWarning: \n",
      "A value is trying to be set on a copy of a slice from a DataFrame\n",
      "\n",
      "See the caveats in the documentation: http://pandas.pydata.org/pandas-docs/stable/indexing.html#indexing-view-versus-copy\n",
      "C:\\Users\\Mark\\AppData\\Local\\Continuum\\anaconda3\\lib\\site-packages\\ipykernel_launcher.py:65: SettingWithCopyWarning: \n",
      "A value is trying to be set on a copy of a slice from a DataFrame\n",
      "\n",
      "See the caveats in the documentation: http://pandas.pydata.org/pandas-docs/stable/indexing.html#indexing-view-versus-copy\n",
      "C:\\Users\\Mark\\AppData\\Local\\Continuum\\anaconda3\\lib\\site-packages\\ipykernel_launcher.py:68: SettingWithCopyWarning: \n",
      "A value is trying to be set on a copy of a slice from a DataFrame\n",
      "\n",
      "See the caveats in the documentation: http://pandas.pydata.org/pandas-docs/stable/indexing.html#indexing-view-versus-copy\n",
      "C:\\Users\\Mark\\AppData\\Local\\Continuum\\anaconda3\\lib\\site-packages\\ipykernel_launcher.py:69: SettingWithCopyWarning: \n",
      "A value is trying to be set on a copy of a slice from a DataFrame\n",
      "\n",
      "See the caveats in the documentation: http://pandas.pydata.org/pandas-docs/stable/indexing.html#indexing-view-versus-copy\n"
     ]
    }
   ],
   "source": [
    "# esxv1 clear sky days\n",
    "# These are quality controled days\n",
    "\n",
    "esx_aug25 = esxv1[(esxv1.index > '08-25-2018 00:00:00') & (esxv1.index < '08-26-2018 00:00:00')]\n",
    "esxv1['clearday'][(esxv1.index > '08-25-2018 00:00:00') & (esxv1.index < '08-26-2018 00:00:00')] = 1\n",
    "esxv1['qc'][(esxv1.index > '08-25-2018 00:00:00') & (esxv1.index < '08-26-2018 00:00:00')] = 1\n",
    "\n",
    "esx_nov15 = esxv1[(esxv1.index > '11-15-2018 00:00:00') & (esxv1.index < '11-16-2018 00:00:00')] # not clear\n",
    "esxv1['qc'][(esxv1.index > '11-15-2018 00:00:00') & (esxv1.index < '11-16-2018 00:00:00')] = 1\n",
    "esx_jan17 = esxv1[(esxv1.index > '01-17-2019 00:00:00') & (esxv1.index < '01-18-2019 00:00:00')] # not clear\n",
    "esxv1['qc'][(esxv1.index > '01-17-2019 00:00:00') & (esxv1.index < '01-18-2019 00:00:00')] = 1\n",
    "\n",
    "esx_mar19 = esxv1[(esxv1.index > '03-19-2019 00:00:00') & (esxv1.index < '03-20-2019 00:00:00')]\n",
    "esxv1['clearday'][(esxv1.index > '03-19-2019 00:00:00') & (esxv1.index < '03-20-2019 00:00:00')] = 1\n",
    "esxv1['qc'][(esxv1.index > '03-19-2019 00:00:00') & (esxv1.index < '03-20-2019 00:00:00')] = 1\n",
    "\n",
    "esx_mar26 = esxv1[(esxv1.index > '03-26-2019 00:00:00') & (esxv1.index < '03-27-2019 00:00:00')]\n",
    "esxv1['clearday'][(esxv1.index > '03-26-2019 00:00:00') & (esxv1.index < '03-27-2019 00:00:00')] = 1\n",
    "esxv1['qc'][(esxv1.index > '03-26-2019 00:00:00') & (esxv1.index < '03-27-2019 00:00:00')] = 1\n",
    "\n",
    "esx_apr17 = esxv1[(esxv1.index > '04-17-2019 00:00:00') & (esxv1.index < '04-18-2019 00:00:00')]\n",
    "esxv1['clearday'][(esxv1.index > '04-17-2019 00:00:00') & (esxv1.index < '04-18-2019 00:00:00')] = 1\n",
    "esxv1['qc'][(esxv1.index > '04-17-2019 00:00:00') & (esxv1.index < '04-18-2019 00:00:00')] = 1\n",
    "\n",
    "esx_may9 = esxv1[(esxv1.index > '05-09-2019 00:00:00') & (esxv1.index < '05-10-2019 00:00:00')]\n",
    "esxv1['clearday'][(esxv1.index > '05-09-2019 00:00:00') & (esxv1.index < '05-10-2019 00:00:00')] = 1\n",
    "esxv1['qc'][(esxv1.index > '05-09-2019 00:00:00') & (esxv1.index < '05-10-2019 00:00:00')] = 1\n",
    "\n",
    "esx_dec13 = esxv1[(esxv1.index > '12-13-2019 00:00:00') & (esxv1.index < '12-14-2019 00:00:00')]\n",
    "esxv1['clearday'][(esxv1.index > '12-13-2019 00:00:00') & (esxv1.index < '12-14-2019 00:00:00')] = 1\n",
    "esxv1['qc'][(esxv1.index > '12-13-2019 00:00:00') & (esxv1.index < '12-14-2019 0008:00:00')] = 1\n",
    "\n",
    "esx_jan8 = esxv1[(esxv1.index > '01-07-2019 00:00:00') & (esxv1.index < '01-08-2019 00:00:00')]\n",
    "esxv1['clearday'][(esxv1.index > '01-07-2019 00:00:00') & (esxv1.index < '01-08-2019 00:00:00')] = 1\n",
    "esxv1['qc'][(esxv1.index > '01-07-2019 00:00:00') & (esxv1.index < '01-08-2019 00:00:00')] = 1\n",
    "\n",
    "# lsc07 clear sky days\n",
    "# most vtw12 days mirror lsc07 but with less certainty\n",
    "# in the future it is reasonable to use these same refrence days to explore vtw12\n",
    "\n",
    "lsc_jun12 = lsc07[(lsc07.index > '06-12-2018 00:00:00') & (lsc07.index < '06-13-2018 00:00:00')]\n",
    "lsc07['clearday'][(lsc07.index > '06-12-2018 00:00:00') & (lsc07.index < '06-13-2018 00:00:00')] = 1\n",
    "lsc07['qc'][(lsc07.index > '06-12-2018 00:00:00') & (lsc07.index < '06-13-2018 00:00:00')] = 1\n",
    "\n",
    "lsc_jul10 = lsc07[(lsc07.index > '07-10-2018 00:00:00') & (lsc07.index < '07-11-2018 00:00:00')]\n",
    "lsc07['clearday'][(lsc07.index > '07-10-2018 00:00:00') & (lsc07.index < '07-11-2018 00:00:00')] = 1\n",
    "lsc07['qc'][(lsc07.index > '07-10-2018 00:00:00') & (lsc07.index < '07-11-2018 00:00:00')] = 1\n",
    "\n",
    "lsc_jul13 = lsc07[(lsc07.index > '07-13-2018 00:00:00') & (lsc07.index < '07-14-2018 00:00:00')]\n",
    "lsc07['clearday'][(lsc07.index > '07-13-2018 00:00:00') & (lsc07.index < '07-14-2018 00:00:00')] = 1\n",
    "lsc07['qc'][(lsc07.index > '07-13-2018 00:00:00') & (lsc07.index < '07-14-2018 00:00:00')] = 1\n",
    "\n",
    "lsc_sep23 = lsc07[(lsc07.index > '09-23-2018 00:00:00') & (lsc07.index < '09-24-2018 00:00:00')]\n",
    "lsc07['clearday'][(lsc07.index > '09-23-2018 00:00:00') & (lsc07.index < '09-24-2018 00:00:00')] = 1\n",
    "lsc07['qc'][(lsc07.index > '09-23-2018 00:00:00') & (lsc07.index < '09-24-2018 00:00:00')] = 1\n",
    "\n",
    "lsc_dec8 = lsc07[(lsc07.index > '12-08-2018 00:00:00') & (lsc07.index < '12-09-2018 00:00:00')]\n",
    "lsc07['clearday'][(lsc07.index > '12-08-2018 00:00:00') & (lsc07.index < '12-09-2018 00:00:00')] = 1\n",
    "lsc07['qc'][(lsc07.index > '12-08-2018 00:00:00') & (lsc07.index < '12-09-2018 00:00:00')] = 1\n",
    "\n",
    "lsc_jan13 = lsc07[(lsc07.index > '01-13-2019 00:00:00') & (lsc07.index < '01-14-2019 00:00:00')] # not clear\n",
    "lsc07['qc'][(lsc07.index > '01-13-2019 00:00:00') & (lsc07.index < '01-14-2019 00:00:00')] = 1\n",
    "\n",
    "lsc_apr20 = lsc07[(lsc07.index > '04-20-2019 00:00:00') & (lsc07.index < '04-21-2019 00:00:00')] # not clear\n",
    "lsc07['qc'][(lsc07.index > '04-20-2019 00:00:00') & (lsc07.index < '04-21-2019 00:00:00')] = 1\n",
    "\n",
    "lsc_sep20 = lsc07[(lsc07.index > '09-20-2019 00:00:00') & (lsc07.index < '09-21-2019 00:00:00')]\n",
    "lsc07['clearday'][(lsc07.index > '09-20-2019 00:00:00') & (lsc07.index < '09-21-2019 00:00:00')] = 1\n",
    "lsc07['qc'][(lsc07.index > '09-20-2019 00:00:00') & (lsc07.index < '09-21-2019 00:00:00')] = 1\n",
    "\n",
    "\n",
    "lsc_clears = [\n",
    "    lsc_jun12, #suspect\n",
    "lsc_jul10, # suspect\n",
    "lsc_jul13, # qc\n",
    "lsc_sep23, # qc\n",
    "lsc_dec8, #qc\n",
    "lsc_sep20 # suspect\n",
    "]\n",
    "esx_clears = [\n",
    "    esx_aug25, # suspect\n",
    "esx_mar19, # qc\n",
    "esx_mar26, # qc\n",
    "esx_apr17, # qc\n",
    "esx_may9, #suspect\n",
    "esx_dec13, #qc\n",
    "]"
   ]
  },
  {
   "cell_type": "code",
   "execution_count": 450,
   "metadata": {},
   "outputs": [],
   "source": [
    "esxv1.to_csv('esxv1_dense_feb10.csv')\n",
    "lsc07.to_csv('lsc07_dense_feb13.csv')"
   ]
  },
  {
   "cell_type": "code",
   "execution_count": 451,
   "metadata": {},
   "outputs": [
    {
     "name": "stdout",
     "output_type": "stream",
     "text": [
      "2921.000625\n",
      "3140.06625\n",
      "3271.539375\n",
      "3418.2899999999995\n",
      "2534.36625\n",
      "944.0887500000001\n"
     ]
    }
   ],
   "source": [
    "for i in esx_clears:\n",
    "    print(i['Hourly_kWh_avg'].sum())"
   ]
  },
  {
   "cell_type": "code",
   "execution_count": 452,
   "metadata": {},
   "outputs": [],
   "source": [
    "# Using the above days to filter select a larger dataset to work with\n",
    "# We can reasonably assume that most days in april with a summed output aprox equal to our qc day"
   ]
  },
  {
   "cell_type": "code",
   "execution_count": 453,
   "metadata": {},
   "outputs": [
    {
     "name": "stdout",
     "output_type": "stream",
     "text": [
      "4298.255\n",
      "2874.3080000000004\n",
      "4340.093000000001\n",
      "3456.07\n",
      "2685.396000000001\n",
      "3648.697\n"
     ]
    }
   ],
   "source": [
    "for i in lsc_clears:\n",
    "    print(i['kWh'].sum())"
   ]
  },
  {
   "cell_type": "code",
   "execution_count": 454,
   "metadata": {},
   "outputs": [
    {
     "data": {
      "image/png": "[encoded data removed]",
      "text/plain": [
       "<Figure size 432x288 with 1 Axes>"
      ]
     },
     "metadata": {
      "needs_background": "light"
     },
     "output_type": "display_data"
    },
    {
     "data": {
      "image/png": "[encoded data removed]",
      "text/plain": [
       "<Figure size 432x288 with 1 Axes>"
      ]
     },
     "metadata": {
      "needs_background": "light"
     },
     "output_type": "display_data"
    },
    {
     "data": {
      "image/png": "[encoded data removed]",
      "text/plain": [
       "<Figure size 432x288 with 1 Axes>"
      ]
     },
     "metadata": {
      "needs_background": "light"
     },
     "output_type": "display_data"
    },
    {
     "data": {
      "image/png": "[encoded data removed]",
      "text/plain": [
       "<Figure size 432x288 with 1 Axes>"
      ]
     },
     "metadata": {
      "needs_background": "light"
     },
     "output_type": "display_data"
    },
    {
     "data": {
      "image/png": "[encoded data removed]",
      "text/plain": [
       "<Figure size 432x288 with 1 Axes>"
      ]
     },
     "metadata": {
      "needs_background": "light"
     },
     "output_type": "display_data"
    },
    {
     "data": {
      "image/png": "[encoded data removed]",
      "text/plain": [
       "<Figure size 432x288 with 1 Axes>"
      ]
     },
     "metadata": {
      "needs_background": "light"
     },
     "output_type": "display_data"
    }
   ],
   "source": [
    "for i in esx_clears:\n",
    "    i['Hourly_kWh_avg'].plot();\n",
    "    plt.show();"
   ]
  },
  {
   "cell_type": "code",
   "execution_count": 455,
   "metadata": {},
   "outputs": [
    {
     "data": {
      "image/png": "[encoded data removed]",
      "text/plain": [
       "<Figure size 432x288 with 1 Axes>"
      ]
     },
     "metadata": {
      "needs_background": "light"
     },
     "output_type": "display_data"
    },
    {
     "data": {
      "image/png": "[encoded data removed]",
      "text/plain": [
       "<Figure size 432x288 with 1 Axes>"
      ]
     },
     "metadata": {
      "needs_background": "light"
     },
     "output_type": "display_data"
    },
    {
     "data": {
      "image/png": "[encoded data removed]",
      "text/plain": [
       "<Figure size 432x288 with 1 Axes>"
      ]
     },
     "metadata": {
      "needs_background": "light"
     },
     "output_type": "display_data"
    },
    {
     "data": {
      "image/png": "[encoded data removed]",
      "text/plain": [
       "<Figure size 432x288 with 1 Axes>"
      ]
     },
     "metadata": {
      "needs_background": "light"
     },
     "output_type": "display_data"
    },
    {
     "data": {
      "image/png": "[encoded data removed]",
      "text/plain": [
       "<Figure size 432x288 with 1 Axes>"
      ]
     },
     "metadata": {
      "needs_background": "light"
     },
     "output_type": "display_data"
    },
    {
     "data": {
      "image/png": "[encoded data removed]",
      "text/plain": [
       "<Figure size 432x288 with 1 Axes>"
      ]
     },
     "metadata": {
      "needs_background": "light"
     },
     "output_type": "display_data"
    }
   ],
   "source": [
    "for i in lsc_clears:\n",
    "    i['kWh'].plot()\n",
    "    plt.show();"
   ]
  },
  {
   "cell_type": "markdown",
   "metadata": {},
   "source": [
    "# Engineering Climatology Features"
   ]
  },
  {
   "cell_type": "code",
   "execution_count": 456,
   "metadata": {},
   "outputs": [],
   "source": [
    "import os\n",
    "\n",
    "import itertools\n",
    "\n",
    "import pvlib\n",
    "\n",
    "from pvlib import clearsky, atmosphere, solarposition # a photo voltaic library\n",
    "from pvlib.location import Location # solar calculations \n",
    "from pvlib.iotools import read_tmy3 # "
   ]
  },
  {
   "cell_type": "code",
   "execution_count": 457,
   "metadata": {},
   "outputs": [],
   "source": [
    "# Compute climatetology datasheet\n",
    "# add PWAT\n",
    "# add Turbidity in Aerosol Depth"
   ]
  },
  {
   "cell_type": "code",
   "execution_count": 458,
   "metadata": {},
   "outputs": [],
   "source": [
    "esxv1_pwat = pd.read_csv('sobu_pwat.csv')\n",
    "lsc07_pwat = pd.read_csv('pwat_nava.csv')\n",
    "esxv1 = pd.read_csv('esxv1_dense_feb10.csv')\n",
    "lsc07 = pd.read_csv('lsc07_dense_feb13.csv')\n",
    "esxv1['timestamp_.1'] = pd.to_datetime(esxv1['timestamp_.1'])\n",
    "lsc07['Timestamp_.1'] = pd.to_datetime(lsc07['Timestamp_.1'])\n",
    "\n",
    "esxv1.set_index('timestamp_.1', inplace = True)\n",
    "lsc07.set_index('Timestamp_.1', inplace = True)\n"
   ]
  },
  {
   "cell_type": "code",
   "execution_count": 464,
   "metadata": {},
   "outputs": [],
   "source": [
    "esxv1.columns = ['ts', 'AC_Cap', 'Array_Azimuth', 'Array_Tilt', 'DC_Cap',\n",
    "       'Elevation', 'Hourly_kWh_avg', 'Latitude', 'Longitude', 'Station_ID',\n",
    "       'Top. azimuth angle (eastward from N)',\n",
    "       'Top. azimuth angle (westward from S)', 'Topocentric zenith angle',\n",
    "       'air_temp_set_1', 'dew_point_temperature_set_1d', 'kWh',\n",
    "       'peak_wind_direction_set_1', 'peak_wind_speed_set_1',\n",
    "       'precip_accum_set_1', 'relative_humidity_set_1',\n",
    "       'solar_radiation_set_1', 'volt_set_1', 'wind_cardinal_direction_set_1d',\n",
    "       'wind_direction_set_1', 'wind_gust_set_1', 'wind_speed_set_1',\n",
    "       'timestamp_.1.1', 'clearday', 'qc']\n",
    "# esxv1.drop(['timestamp_.1'], axis = 1, inplace = True)"
   ]
  },
  {
   "cell_type": "code",
   "execution_count": 462,
   "metadata": {},
   "outputs": [],
   "source": [
    "lsc07.columns = ['ts', 'Elevation', 'Latitude', 'Longitude', 'Station_ID',\n",
    "       'Top. azimuth angle (eastward from N)',\n",
    "       'Top. azimuth angle (westward from S)', 'Topocentric zenith angle',\n",
    "       'air_temp_set_1', 'altimeter_set_1', 'dew_point_temperature_set_1d',\n",
    "       'kWh', 'precip_accum_24_hour_set_1',\n",
    "       'precip_accum_since_local_midnight_set_1', 'pressure_set_1d',\n",
    "       'relative_humidity_set_1', 'sea_level_pressure_set_1d',\n",
    "       'solar_radiation_set_1', 'wind_cardinal_direction_set_1d',\n",
    "       'wind_direction_set_1', 'wind_gust_set_1', 'wind_speed_set_1',\n",
    "       'Timestamp_.1.1', 'clearday', 'qc']\n",
    "# lsc07.drop(['Timestamp_.1'], axis = 1, inplace = True)"
   ]
  },
  {
   "cell_type": "code",
   "execution_count": 465,
   "metadata": {},
   "outputs": [
    {
     "data": {
      "text/html": [
       "<div>\n",
       "<style scoped>\n",
       "    .dataframe tbody tr th:only-of-type {\n",
       "        vertical-align: middle;\n",
       "    }\n",
       "\n",
       "    .dataframe tbody tr th {\n",
       "        vertical-align: top;\n",
       "    }\n",
       "\n",
       "    .dataframe thead th {\n",
       "        text-align: right;\n",
       "    }\n",
       "</style>\n",
       "<table border=\"1\" class=\"dataframe\">\n",
       "  <thead>\n",
       "    <tr style=\"text-align: right;\">\n",
       "      <th></th>\n",
       "      <th>Unnamed: 0</th>\n",
       "      <th>Mean Daily PWAT (inch)</th>\n",
       "    </tr>\n",
       "  </thead>\n",
       "  <tbody>\n",
       "    <tr>\n",
       "      <th>0</th>\n",
       "      <td>2018-01-01 0:00:00</td>\n",
       "      <td>0.32</td>\n",
       "    </tr>\n",
       "  </tbody>\n",
       "</table>\n",
       "</div>"
      ],
      "text/plain": [
       "           Unnamed: 0  Mean Daily PWAT (inch)\n",
       "0  2018-01-01 0:00:00                    0.32"
      ]
     },
     "execution_count": 465,
     "metadata": {},
     "output_type": "execute_result"
    }
   ],
   "source": [
    "esxv1_pwat.head(1)"
   ]
  },
  {
   "cell_type": "code",
   "execution_count": 466,
   "metadata": {},
   "outputs": [],
   "source": [
    "esxv1['ts'] = pd.to_datetime(esxv1['ts'])\n",
    "lsc07['ts'] = pd.to_datetime(lsc07['ts'])\n",
    "\n",
    "esxv1_pwat.index = pd.to_datetime(esxv1_pwat[\"Unnamed: 0\"])\n",
    "lsc07_pwat.index = pd.to_datetime(lsc07_pwat[\"Unnamed: 0\"])\n",
    "esxv1_pwat.columns = [\"ts\", \"pwat\"]\n",
    "lsc07_pwat.columns = [\"ts\", \"pwat\"]\n",
    "esxv1_pwat['ts'] = pd.to_datetime(esxv1_pwat[\"ts\"])\n",
    "lsc07_pwat['ts'] = pd.to_datetime(lsc07_pwat[\"ts\"])"
   ]
  },
  {
   "cell_type": "code",
   "execution_count": 467,
   "metadata": {},
   "outputs": [
    {
     "data": {
      "text/html": [
       "<div>\n",
       "<style scoped>\n",
       "    .dataframe tbody tr th:only-of-type {\n",
       "        vertical-align: middle;\n",
       "    }\n",
       "\n",
       "    .dataframe tbody tr th {\n",
       "        vertical-align: top;\n",
       "    }\n",
       "\n",
       "    .dataframe thead th {\n",
       "        text-align: right;\n",
       "    }\n",
       "</style>\n",
       "<table border=\"1\" class=\"dataframe\">\n",
       "  <thead>\n",
       "    <tr style=\"text-align: right;\">\n",
       "      <th></th>\n",
       "      <th>ts</th>\n",
       "      <th>pwat</th>\n",
       "    </tr>\n",
       "    <tr>\n",
       "      <th>Unnamed: 0</th>\n",
       "      <th></th>\n",
       "      <th></th>\n",
       "    </tr>\n",
       "  </thead>\n",
       "  <tbody>\n",
       "    <tr>\n",
       "      <th>2018-01-01</th>\n",
       "      <td>2018-01-01</td>\n",
       "      <td>0.32</td>\n",
       "    </tr>\n",
       "    <tr>\n",
       "      <th>2018-02-01</th>\n",
       "      <td>2018-02-01</td>\n",
       "      <td>0.25</td>\n",
       "    </tr>\n",
       "    <tr>\n",
       "      <th>2018-03-01</th>\n",
       "      <td>2018-03-01</td>\n",
       "      <td>0.27</td>\n",
       "    </tr>\n",
       "    <tr>\n",
       "      <th>2018-04-01</th>\n",
       "      <td>2018-04-01</td>\n",
       "      <td>0.43</td>\n",
       "    </tr>\n",
       "    <tr>\n",
       "      <th>2018-05-01</th>\n",
       "      <td>2018-05-01</td>\n",
       "      <td>0.57</td>\n",
       "    </tr>\n",
       "  </tbody>\n",
       "</table>\n",
       "</div>"
      ],
      "text/plain": [
       "                   ts  pwat\n",
       "Unnamed: 0                 \n",
       "2018-01-01 2018-01-01  0.32\n",
       "2018-02-01 2018-02-01  0.25\n",
       "2018-03-01 2018-03-01  0.27\n",
       "2018-04-01 2018-04-01  0.43\n",
       "2018-05-01 2018-05-01  0.57"
      ]
     },
     "execution_count": 467,
     "metadata": {},
     "output_type": "execute_result"
    }
   ],
   "source": [
    "esxv1_pwat.head()"
   ]
  },
  {
   "cell_type": "code",
   "execution_count": 468,
   "metadata": {},
   "outputs": [],
   "source": [
    "# Merge on solis for production model\n",
    "\n",
    "# lsc07_cs = lsc07.merge(lsc07_pwat, on='ts', how='left')\n",
    "# lsc07_cs.set_index(['ts'], inplace = True)\n",
    "# lsc07_cs['pwat'].interpolate(method='time', inplace=True)\n",
    "# lsc07_cs['pwat'].fillna(float(0.34), inplace = True)"
   ]
  },
  {
   "cell_type": "code",
   "execution_count": 469,
   "metadata": {},
   "outputs": [],
   "source": [
    "# merge on solis <for prediction model>\n",
    "\n",
    "\n",
    "# esxv1_cs = esxv1.merge(esxv1_pwat, on='ts', how='left')\n",
    "# esxv1_cs.set_index(['ts'], inplace = True)\n",
    "# esxv1_cs['pwat'].interpolate(method='time', inplace=True)\n",
    "# esxv1_cs['pwat'].fillna(float(0.32), inplace = True)"
   ]
  },
  {
   "cell_type": "code",
   "execution_count": 470,
   "metadata": {},
   "outputs": [
    {
     "data": {
      "text/plain": [
       "(17521, 10)"
      ]
     },
     "execution_count": 470,
     "metadata": {},
     "output_type": "execute_result"
    }
   ],
   "source": [
    "lsc07_cs.shape"
   ]
  },
  {
   "cell_type": "code",
   "execution_count": null,
   "metadata": {},
   "outputs": [],
   "source": []
  },
  {
   "cell_type": "code",
   "execution_count": null,
   "metadata": {},
   "outputs": [],
   "source": []
  },
  {
   "cell_type": "code",
   "execution_count": null,
   "metadata": {},
   "outputs": [],
   "source": [
    "predicted_irradiance = pv.pvl_clearsky_ine"
   ]
  },
  {
   "cell_type": "markdown",
   "metadata": {},
   "source": [
    "### Feature Engineering Climatology"
   ]
  },
  {
   "cell_type": "code",
   "execution_count": 388,
   "metadata": {},
   "outputs": [
    {
     "data": {
      "text/html": [
       "<div>\n",
       "<style scoped>\n",
       "    .dataframe tbody tr th:only-of-type {\n",
       "        vertical-align: middle;\n",
       "    }\n",
       "\n",
       "    .dataframe tbody tr th {\n",
       "        vertical-align: top;\n",
       "    }\n",
       "\n",
       "    .dataframe thead th {\n",
       "        text-align: right;\n",
       "    }\n",
       "</style>\n",
       "<table border=\"1\" class=\"dataframe\">\n",
       "  <thead>\n",
       "    <tr style=\"text-align: right;\">\n",
       "      <th></th>\n",
       "      <th>ts</th>\n",
       "      <th>AC_Cap</th>\n",
       "      <th>Array_Azimuth</th>\n",
       "      <th>Array_Tilt</th>\n",
       "      <th>DC_Cap</th>\n",
       "      <th>Elevation</th>\n",
       "      <th>Hourly_kWh_avg</th>\n",
       "      <th>Latitude</th>\n",
       "      <th>Longitude</th>\n",
       "      <th>Station_ID</th>\n",
       "      <th>...</th>\n",
       "      <th>precip_accum_set_1</th>\n",
       "      <th>relative_humidity_set_1</th>\n",
       "      <th>solar_radiation_set_1</th>\n",
       "      <th>volt_set_1</th>\n",
       "      <th>wind_cardinal_direction_set_1d</th>\n",
       "      <th>wind_direction_set_1</th>\n",
       "      <th>wind_gust_set_1</th>\n",
       "      <th>wind_speed_set_1</th>\n",
       "      <th>clearday</th>\n",
       "      <th>qc</th>\n",
       "    </tr>\n",
       "    <tr>\n",
       "      <th>timestamp_.1</th>\n",
       "      <th></th>\n",
       "      <th></th>\n",
       "      <th></th>\n",
       "      <th></th>\n",
       "      <th></th>\n",
       "      <th></th>\n",
       "      <th></th>\n",
       "      <th></th>\n",
       "      <th></th>\n",
       "      <th></th>\n",
       "      <th></th>\n",
       "      <th></th>\n",
       "      <th></th>\n",
       "      <th></th>\n",
       "      <th></th>\n",
       "      <th></th>\n",
       "      <th></th>\n",
       "      <th></th>\n",
       "      <th></th>\n",
       "      <th></th>\n",
       "      <th></th>\n",
       "    </tr>\n",
       "  </thead>\n",
       "  <tbody>\n",
       "    <tr>\n",
       "      <th>2018-01-01 03:00:00</th>\n",
       "      <td>2018-01-01 03:00:00</td>\n",
       "      <td>1988.0</td>\n",
       "      <td>180.0</td>\n",
       "      <td>20.0</td>\n",
       "      <td>2086.2</td>\n",
       "      <td>100.0</td>\n",
       "      <td>0.0</td>\n",
       "      <td>44.48057</td>\n",
       "      <td>-73.170866</td>\n",
       "      <td>ESXV1</td>\n",
       "      <td>...</td>\n",
       "      <td>0.0</td>\n",
       "      <td>64.000000</td>\n",
       "      <td>0.0</td>\n",
       "      <td>13.000000</td>\n",
       "      <td>NNE</td>\n",
       "      <td>20.0</td>\n",
       "      <td>2.635333</td>\n",
       "      <td>0.450</td>\n",
       "      <td>0</td>\n",
       "      <td>0</td>\n",
       "    </tr>\n",
       "    <tr>\n",
       "      <th>2018-01-01 04:00:00</th>\n",
       "      <td>2018-01-01 04:00:00</td>\n",
       "      <td>1988.0</td>\n",
       "      <td>180.0</td>\n",
       "      <td>20.0</td>\n",
       "      <td>2086.2</td>\n",
       "      <td>100.0</td>\n",
       "      <td>0.0</td>\n",
       "      <td>44.48057</td>\n",
       "      <td>-73.170866</td>\n",
       "      <td>ESXV1</td>\n",
       "      <td>...</td>\n",
       "      <td>0.0</td>\n",
       "      <td>67.866667</td>\n",
       "      <td>0.0</td>\n",
       "      <td>12.903333</td>\n",
       "      <td>NNW</td>\n",
       "      <td>333.0</td>\n",
       "      <td>1.384667</td>\n",
       "      <td>0.015</td>\n",
       "      <td>0</td>\n",
       "      <td>0</td>\n",
       "    </tr>\n",
       "    <tr>\n",
       "      <th>2018-01-01 05:00:00</th>\n",
       "      <td>2018-01-01 05:00:00</td>\n",
       "      <td>1988.0</td>\n",
       "      <td>180.0</td>\n",
       "      <td>20.0</td>\n",
       "      <td>2086.2</td>\n",
       "      <td>100.0</td>\n",
       "      <td>0.0</td>\n",
       "      <td>44.48057</td>\n",
       "      <td>-73.170866</td>\n",
       "      <td>ESXV1</td>\n",
       "      <td>...</td>\n",
       "      <td>0.0</td>\n",
       "      <td>72.833333</td>\n",
       "      <td>0.0</td>\n",
       "      <td>12.803333</td>\n",
       "      <td>NNW</td>\n",
       "      <td>333.0</td>\n",
       "      <td>0.479667</td>\n",
       "      <td>0.000</td>\n",
       "      <td>0</td>\n",
       "      <td>0</td>\n",
       "    </tr>\n",
       "    <tr>\n",
       "      <th>2018-01-01 06:00:00</th>\n",
       "      <td>2018-01-01 06:00:00</td>\n",
       "      <td>1988.0</td>\n",
       "      <td>180.0</td>\n",
       "      <td>20.0</td>\n",
       "      <td>2086.2</td>\n",
       "      <td>100.0</td>\n",
       "      <td>0.0</td>\n",
       "      <td>44.48057</td>\n",
       "      <td>-73.170866</td>\n",
       "      <td>ESXV1</td>\n",
       "      <td>...</td>\n",
       "      <td>0.0</td>\n",
       "      <td>71.066667</td>\n",
       "      <td>0.0</td>\n",
       "      <td>12.800000</td>\n",
       "      <td>NNW</td>\n",
       "      <td>333.0</td>\n",
       "      <td>0.015000</td>\n",
       "      <td>0.000</td>\n",
       "      <td>0</td>\n",
       "      <td>0</td>\n",
       "    </tr>\n",
       "    <tr>\n",
       "      <th>2018-01-01 07:00:00</th>\n",
       "      <td>2018-01-01 07:00:00</td>\n",
       "      <td>1988.0</td>\n",
       "      <td>180.0</td>\n",
       "      <td>20.0</td>\n",
       "      <td>2086.2</td>\n",
       "      <td>100.0</td>\n",
       "      <td>0.0</td>\n",
       "      <td>44.48057</td>\n",
       "      <td>-73.170866</td>\n",
       "      <td>ESXV1</td>\n",
       "      <td>...</td>\n",
       "      <td>0.0</td>\n",
       "      <td>70.033333</td>\n",
       "      <td>0.0</td>\n",
       "      <td>12.703333</td>\n",
       "      <td>NNW</td>\n",
       "      <td>333.0</td>\n",
       "      <td>0.435000</td>\n",
       "      <td>0.000</td>\n",
       "      <td>0</td>\n",
       "      <td>0</td>\n",
       "    </tr>\n",
       "  </tbody>\n",
       "</table>\n",
       "<p>5 rows × 28 columns</p>\n",
       "</div>"
      ],
      "text/plain": [
       "                                     ts  AC_Cap  Array_Azimuth  Array_Tilt  \\\n",
       "timestamp_.1                                                                 \n",
       "2018-01-01 03:00:00 2018-01-01 03:00:00  1988.0          180.0        20.0   \n",
       "2018-01-01 04:00:00 2018-01-01 04:00:00  1988.0          180.0        20.0   \n",
       "2018-01-01 05:00:00 2018-01-01 05:00:00  1988.0          180.0        20.0   \n",
       "2018-01-01 06:00:00 2018-01-01 06:00:00  1988.0          180.0        20.0   \n",
       "2018-01-01 07:00:00 2018-01-01 07:00:00  1988.0          180.0        20.0   \n",
       "\n",
       "                     DC_Cap  Elevation  Hourly_kWh_avg  Latitude  Longitude  \\\n",
       "timestamp_.1                                                                  \n",
       "2018-01-01 03:00:00  2086.2      100.0             0.0  44.48057 -73.170866   \n",
       "2018-01-01 04:00:00  2086.2      100.0             0.0  44.48057 -73.170866   \n",
       "2018-01-01 05:00:00  2086.2      100.0             0.0  44.48057 -73.170866   \n",
       "2018-01-01 06:00:00  2086.2      100.0             0.0  44.48057 -73.170866   \n",
       "2018-01-01 07:00:00  2086.2      100.0             0.0  44.48057 -73.170866   \n",
       "\n",
       "                    Station_ID  ...  precip_accum_set_1  \\\n",
       "timestamp_.1                    ...                       \n",
       "2018-01-01 03:00:00      ESXV1  ...                 0.0   \n",
       "2018-01-01 04:00:00      ESXV1  ...                 0.0   \n",
       "2018-01-01 05:00:00      ESXV1  ...                 0.0   \n",
       "2018-01-01 06:00:00      ESXV1  ...                 0.0   \n",
       "2018-01-01 07:00:00      ESXV1  ...                 0.0   \n",
       "\n",
       "                     relative_humidity_set_1  solar_radiation_set_1  \\\n",
       "timestamp_.1                                                          \n",
       "2018-01-01 03:00:00                64.000000                    0.0   \n",
       "2018-01-01 04:00:00                67.866667                    0.0   \n",
       "2018-01-01 05:00:00                72.833333                    0.0   \n",
       "2018-01-01 06:00:00                71.066667                    0.0   \n",
       "2018-01-01 07:00:00                70.033333                    0.0   \n",
       "\n",
       "                     volt_set_1  wind_cardinal_direction_set_1d  \\\n",
       "timestamp_.1                                                      \n",
       "2018-01-01 03:00:00   13.000000                             NNE   \n",
       "2018-01-01 04:00:00   12.903333                             NNW   \n",
       "2018-01-01 05:00:00   12.803333                             NNW   \n",
       "2018-01-01 06:00:00   12.800000                             NNW   \n",
       "2018-01-01 07:00:00   12.703333                             NNW   \n",
       "\n",
       "                     wind_direction_set_1  wind_gust_set_1  wind_speed_set_1  \\\n",
       "timestamp_.1                                                                   \n",
       "2018-01-01 03:00:00                  20.0         2.635333             0.450   \n",
       "2018-01-01 04:00:00                 333.0         1.384667             0.015   \n",
       "2018-01-01 05:00:00                 333.0         0.479667             0.000   \n",
       "2018-01-01 06:00:00                 333.0         0.015000             0.000   \n",
       "2018-01-01 07:00:00                 333.0         0.435000             0.000   \n",
       "\n",
       "                     clearday  qc  \n",
       "timestamp_.1                       \n",
       "2018-01-01 03:00:00         0   0  \n",
       "2018-01-01 04:00:00         0   0  \n",
       "2018-01-01 05:00:00         0   0  \n",
       "2018-01-01 06:00:00         0   0  \n",
       "2018-01-01 07:00:00         0   0  \n",
       "\n",
       "[5 rows x 28 columns]"
      ]
     },
     "execution_count": 388,
     "metadata": {},
     "output_type": "execute_result"
    }
   ],
   "source": [
    "esxv1.head()"
   ]
  },
  {
   "cell_type": "code",
   "execution_count": 471,
   "metadata": {},
   "outputs": [
    {
     "data": {
      "image/png": "[encoded data removed]",
      "text/plain": [
       "<Figure size 432x288 with 1 Axes>"
      ]
     },
     "metadata": {
      "needs_background": "light"
     },
     "output_type": "display_data"
    }
   ],
   "source": [
    "# calculation for finding AOD for all wavelengths <to be implemented>\n",
    "\n",
    "# aod700nm = atmosphere.angstrom_aod_at_lambda(1.2, 1240, alpha_exponent, 700)\n",
    "# aod700nm\n",
    "\n",
    "latitude, longitude, tz, altitude, name = 44.48057, -73.170866, 'EST', 100, 'South Burlington'\n",
    "\n",
    "times = pd.date_range(start='2018-01-01', end='2020-01-01', freq='60min', tz=None)\n",
    "\n",
    "solpos = pvlib.solarposition.get_solarposition(times, latitude, longitude)\n",
    "solpos['ts'] = solpos.index\n",
    "\n",
    "apparent_elevation = solpos['apparent_elevation']\n",
    "\n",
    "aod700 = 0.1 # moving on, will come back to this\n",
    "\n",
    "esxv1_pwat\n",
    "resulting = solpos.merge(esxv1_pwat, on='ts', how='left')\n",
    "resulting.set_index(['ts'], inplace = True)\n",
    "resulting['pwat'].interpolate(method='time', inplace=True)\n",
    "resulting['pwat'].fillna(float(0.34), inplace = True)\n",
    "precipitable_water = resulting['pwat']\n",
    "\n",
    "pressure = pvlib.atmosphere.alt2pres(altitude)\n",
    "\n",
    "dni_extra = pvlib.irradiance.get_extra_radiation(times)\n",
    "\n",
    "# # an input is a Series, so solis is a DataFrame\n",
    "esxv1_solis = clearsky.simplified_solis(apparent_elevation, aod700, precipitable_water,\n",
    "                                  pressure, dni_extra)\n",
    "\n",
    "ax = solis.plot();\n",
    "\n",
    "ax.set_ylabel('Irradiance $W/m^2$');\n",
    "\n",
    "ax.set_title('Simplified Solis Clear Sky Model');\n",
    "\n",
    "ax.legend(loc='lower left');\n",
    "\n",
    "plt.ylabel('Irradiance $W/m^2$');\n",
    "plt.savefig('south Burlington CS Irradiation')"
   ]
  },
  {
   "cell_type": "code",
   "execution_count": null,
   "metadata": {},
   "outputs": [],
   "source": []
  },
  {
   "cell_type": "code",
   "execution_count": 472,
   "metadata": {},
   "outputs": [
    {
     "data": {
      "text/html": [
       "<div>\n",
       "<style scoped>\n",
       "    .dataframe tbody tr th:only-of-type {\n",
       "        vertical-align: middle;\n",
       "    }\n",
       "\n",
       "    .dataframe tbody tr th {\n",
       "        vertical-align: top;\n",
       "    }\n",
       "\n",
       "    .dataframe thead th {\n",
       "        text-align: right;\n",
       "    }\n",
       "</style>\n",
       "<table border=\"1\" class=\"dataframe\">\n",
       "  <thead>\n",
       "    <tr style=\"text-align: right;\">\n",
       "      <th></th>\n",
       "      <th>ghi</th>\n",
       "      <th>dni</th>\n",
       "      <th>dhi</th>\n",
       "      <th>apparent_zenith</th>\n",
       "      <th>zenith</th>\n",
       "      <th>apparent_elevation</th>\n",
       "      <th>elevation</th>\n",
       "      <th>azimuth</th>\n",
       "      <th>equation_of_time</th>\n",
       "      <th>ts</th>\n",
       "    </tr>\n",
       "  </thead>\n",
       "  <tbody>\n",
       "    <tr>\n",
       "      <th>2018-01-01 00:00:00</th>\n",
       "      <td>0.0</td>\n",
       "      <td>0.0</td>\n",
       "      <td>0.0</td>\n",
       "      <td>158.507745</td>\n",
       "      <td>158.507745</td>\n",
       "      <td>-68.507745</td>\n",
       "      <td>-68.507745</td>\n",
       "      <td>2.442988</td>\n",
       "      <td>-3.424553</td>\n",
       "      <td>2018-01-01 05:00:00</td>\n",
       "    </tr>\n",
       "    <tr>\n",
       "      <th>2018-01-01 01:00:00</th>\n",
       "      <td>0.0</td>\n",
       "      <td>0.0</td>\n",
       "      <td>0.0</td>\n",
       "      <td>154.850610</td>\n",
       "      <td>154.850610</td>\n",
       "      <td>-64.850610</td>\n",
       "      <td>-64.850610</td>\n",
       "      <td>36.571218</td>\n",
       "      <td>-3.444146</td>\n",
       "      <td>2018-01-01 06:00:00</td>\n",
       "    </tr>\n",
       "    <tr>\n",
       "      <th>2018-01-01 02:00:00</th>\n",
       "      <td>0.0</td>\n",
       "      <td>0.0</td>\n",
       "      <td>0.0</td>\n",
       "      <td>146.817944</td>\n",
       "      <td>146.817944</td>\n",
       "      <td>-56.817944</td>\n",
       "      <td>-56.817944</td>\n",
       "      <td>59.916158</td>\n",
       "      <td>-3.463729</td>\n",
       "      <td>2018-01-01 07:00:00</td>\n",
       "    </tr>\n",
       "    <tr>\n",
       "      <th>2018-01-01 03:00:00</th>\n",
       "      <td>0.0</td>\n",
       "      <td>0.0</td>\n",
       "      <td>0.0</td>\n",
       "      <td>136.912373</td>\n",
       "      <td>136.912373</td>\n",
       "      <td>-46.912373</td>\n",
       "      <td>-46.912373</td>\n",
       "      <td>75.615163</td>\n",
       "      <td>-3.483303</td>\n",
       "      <td>2018-01-01 08:00:00</td>\n",
       "    </tr>\n",
       "    <tr>\n",
       "      <th>2018-01-01 04:00:00</th>\n",
       "      <td>0.0</td>\n",
       "      <td>0.0</td>\n",
       "      <td>0.0</td>\n",
       "      <td>126.340396</td>\n",
       "      <td>126.340396</td>\n",
       "      <td>-36.340396</td>\n",
       "      <td>-36.340396</td>\n",
       "      <td>87.543147</td>\n",
       "      <td>-3.502868</td>\n",
       "      <td>2018-01-01 09:00:00</td>\n",
       "    </tr>\n",
       "  </tbody>\n",
       "</table>\n",
       "</div>"
      ],
      "text/plain": [
       "                     ghi  dni  dhi  apparent_zenith      zenith  \\\n",
       "2018-01-01 00:00:00  0.0  0.0  0.0       158.507745  158.507745   \n",
       "2018-01-01 01:00:00  0.0  0.0  0.0       154.850610  154.850610   \n",
       "2018-01-01 02:00:00  0.0  0.0  0.0       146.817944  146.817944   \n",
       "2018-01-01 03:00:00  0.0  0.0  0.0       136.912373  136.912373   \n",
       "2018-01-01 04:00:00  0.0  0.0  0.0       126.340396  126.340396   \n",
       "\n",
       "                     apparent_elevation  elevation    azimuth  \\\n",
       "2018-01-01 00:00:00          -68.507745 -68.507745   2.442988   \n",
       "2018-01-01 01:00:00          -64.850610 -64.850610  36.571218   \n",
       "2018-01-01 02:00:00          -56.817944 -56.817944  59.916158   \n",
       "2018-01-01 03:00:00          -46.912373 -46.912373  75.615163   \n",
       "2018-01-01 04:00:00          -36.340396 -36.340396  87.543147   \n",
       "\n",
       "                     equation_of_time                  ts  \n",
       "2018-01-01 00:00:00         -3.424553 2018-01-01 05:00:00  \n",
       "2018-01-01 01:00:00         -3.444146 2018-01-01 06:00:00  \n",
       "2018-01-01 02:00:00         -3.463729 2018-01-01 07:00:00  \n",
       "2018-01-01 03:00:00         -3.483303 2018-01-01 08:00:00  \n",
       "2018-01-01 04:00:00         -3.502868 2018-01-01 09:00:00  "
      ]
     },
     "execution_count": 472,
     "metadata": {},
     "output_type": "execute_result"
    }
   ],
   "source": [
    "# what I had been scraping I can perhaps just fill using this method.  Will verify and confirm. <not yet confirmed>\n",
    "\n",
    "# join solis on solar angle features\n",
    "\n",
    "esxv1_cs = solis.join(solpos)\n",
    "# lsc07_solis.set_index('ts', inplace = True)\n",
    "esxv1_cs = esxv1_cs.shift(-5)\n",
    "# join solis on kWhrs?\n",
    "# esxv1_cs['kWh']\n",
    "esxv1_cs.head()"
   ]
  },
  {
   "cell_type": "code",
   "execution_count": 390,
   "metadata": {},
   "outputs": [
    {
     "data": {
      "text/html": [
       "<div>\n",
       "<style scoped>\n",
       "    .dataframe tbody tr th:only-of-type {\n",
       "        vertical-align: middle;\n",
       "    }\n",
       "\n",
       "    .dataframe tbody tr th {\n",
       "        vertical-align: top;\n",
       "    }\n",
       "\n",
       "    .dataframe thead th {\n",
       "        text-align: right;\n",
       "    }\n",
       "</style>\n",
       "<table border=\"1\" class=\"dataframe\">\n",
       "  <thead>\n",
       "    <tr style=\"text-align: right;\">\n",
       "      <th></th>\n",
       "      <th>ts</th>\n",
       "      <th>Elevation</th>\n",
       "      <th>Latitude</th>\n",
       "      <th>Longitude</th>\n",
       "      <th>Station_ID</th>\n",
       "      <th>Top. azimuth angle (eastward from N)</th>\n",
       "      <th>Top. azimuth angle (westward from S)</th>\n",
       "      <th>Topocentric zenith angle</th>\n",
       "      <th>air_temp_set_1</th>\n",
       "      <th>altimeter_set_1</th>\n",
       "      <th>...</th>\n",
       "      <th>pressure_set_1d</th>\n",
       "      <th>relative_humidity_set_1</th>\n",
       "      <th>sea_level_pressure_set_1d</th>\n",
       "      <th>solar_radiation_set_1</th>\n",
       "      <th>wind_cardinal_direction_set_1d</th>\n",
       "      <th>wind_direction_set_1</th>\n",
       "      <th>wind_gust_set_1</th>\n",
       "      <th>wind_speed_set_1</th>\n",
       "      <th>clearday</th>\n",
       "      <th>qc</th>\n",
       "    </tr>\n",
       "    <tr>\n",
       "      <th>Timestamp_.1</th>\n",
       "      <th></th>\n",
       "      <th></th>\n",
       "      <th></th>\n",
       "      <th></th>\n",
       "      <th></th>\n",
       "      <th></th>\n",
       "      <th></th>\n",
       "      <th></th>\n",
       "      <th></th>\n",
       "      <th></th>\n",
       "      <th></th>\n",
       "      <th></th>\n",
       "      <th></th>\n",
       "      <th></th>\n",
       "      <th></th>\n",
       "      <th></th>\n",
       "      <th></th>\n",
       "      <th></th>\n",
       "      <th></th>\n",
       "      <th></th>\n",
       "      <th></th>\n",
       "    </tr>\n",
       "  </thead>\n",
       "  <tbody>\n",
       "    <tr>\n",
       "      <th>2018-01-01 08:00:00</th>\n",
       "      <td>2018-01-01 08:00:00</td>\n",
       "      <td>335.0</td>\n",
       "      <td>43.822757</td>\n",
       "      <td>-72.590538</td>\n",
       "      <td>LSC07</td>\n",
       "      <td>152.443608</td>\n",
       "      <td>332.443608</td>\n",
       "      <td>71.683404</td>\n",
       "      <td>-23.89</td>\n",
       "      <td>101841.434166</td>\n",
       "      <td>...</td>\n",
       "      <td>95963.15</td>\n",
       "      <td>80.0</td>\n",
       "      <td>103952.613571</td>\n",
       "      <td>8.0</td>\n",
       "      <td>NNE</td>\n",
       "      <td>26.0</td>\n",
       "      <td>3.770714</td>\n",
       "      <td>0.640714</td>\n",
       "      <td>0</td>\n",
       "      <td>0</td>\n",
       "    </tr>\n",
       "  </tbody>\n",
       "</table>\n",
       "<p>1 rows × 24 columns</p>\n",
       "</div>"
      ],
      "text/plain": [
       "                                     ts  Elevation   Latitude  Longitude  \\\n",
       "Timestamp_.1                                                               \n",
       "2018-01-01 08:00:00 2018-01-01 08:00:00      335.0  43.822757 -72.590538   \n",
       "\n",
       "                    Station_ID  Top. azimuth angle (eastward from N)  \\\n",
       "Timestamp_.1                                                           \n",
       "2018-01-01 08:00:00      LSC07                            152.443608   \n",
       "\n",
       "                     Top. azimuth angle (westward from S)  \\\n",
       "Timestamp_.1                                                \n",
       "2018-01-01 08:00:00                            332.443608   \n",
       "\n",
       "                     Topocentric zenith angle  air_temp_set_1  \\\n",
       "Timestamp_.1                                                    \n",
       "2018-01-01 08:00:00                 71.683404          -23.89   \n",
       "\n",
       "                     altimeter_set_1  ...  pressure_set_1d  \\\n",
       "Timestamp_.1                          ...                    \n",
       "2018-01-01 08:00:00    101841.434166  ...         95963.15   \n",
       "\n",
       "                     relative_humidity_set_1  sea_level_pressure_set_1d  \\\n",
       "Timestamp_.1                                                              \n",
       "2018-01-01 08:00:00                     80.0              103952.613571   \n",
       "\n",
       "                     solar_radiation_set_1  wind_cardinal_direction_set_1d  \\\n",
       "Timestamp_.1                                                                 \n",
       "2018-01-01 08:00:00                    8.0                             NNE   \n",
       "\n",
       "                     wind_direction_set_1  wind_gust_set_1  wind_speed_set_1  \\\n",
       "Timestamp_.1                                                                   \n",
       "2018-01-01 08:00:00                  26.0         3.770714          0.640714   \n",
       "\n",
       "                    clearday  qc  \n",
       "Timestamp_.1                      \n",
       "2018-01-01 08:00:00        0   0  \n",
       "\n",
       "[1 rows x 24 columns]"
      ]
     },
     "execution_count": 390,
     "metadata": {},
     "output_type": "execute_result"
    }
   ],
   "source": [
    "lsc07.head(1)"
   ]
  },
  {
   "cell_type": "code",
   "execution_count": 473,
   "metadata": {},
   "outputs": [
    {
     "data": {
      "image/png": "[encoded data removed]",
      "text/plain": [
       "<Figure size 432x288 with 1 Axes>"
      ]
     },
     "metadata": {
      "needs_background": "light"
     },
     "output_type": "display_data"
    }
   ],
   "source": [
    "## LSC07 ##\n",
    "\n",
    "# calculation for finding AOD for all wavelengths <to be implemented>\n",
    "\n",
    "# aod700nm = atmosphere.angstrom_aod_at_lambda(1.2, 1240, alpha_exponent, 700)\n",
    "# aod700nm\n",
    "\n",
    "latitude, longitude, tz, altitude, name = 43.822757, -72.590538, 'EST', 335, 'Randolph'\n",
    "\n",
    "times = pd.date_range(start='2018-01-01', end='2020-01-01', freq='60min', tz=None)\n",
    "\n",
    "solpos = pvlib.solarposition.get_solarposition(times, latitude, longitude)\n",
    "solpos['ts'] = solpos.index\n",
    "\n",
    "apparent_elevation = solpos['apparent_elevation']\n",
    "\n",
    "aod700 = 0.1 # moving on, will come back to this\n",
    "\n",
    "lsc07_pwat\n",
    "resulting = solpos.merge(lsc07_pwat, on='ts', how='left')\n",
    "resulting.set_index(['ts'], inplace = True)\n",
    "resulting['pwat'].interpolate(method='time', inplace=True)\n",
    "resulting['pwat'].fillna(float(0.32), inplace = True)\n",
    "precipitable_water = resulting['pwat']\n",
    "\n",
    "pressure = pvlib.atmosphere.alt2pres(altitude)\n",
    "\n",
    "dni_extra = pvlib.irradiance.get_extra_radiation(times)\n",
    "\n",
    "# # an input is a Series, so solis is a DataFrame\n",
    "lsc07_solis = clearsky.simplified_solis(apparent_elevation, aod700, precipitable_water,\n",
    "                                  pressure, dni_extra)\n",
    "\n",
    "ax = solis.plot();\n",
    "\n",
    "ax.set_ylabel('Irradiance $W/m^2$');\n",
    "\n",
    "ax.set_title('Simplified Solis Clear Sky Model');\n",
    "\n",
    "ax.legend(loc='lower left');\n",
    "\n",
    "plt.ylabel('Irradiance $W/m^2$');\n",
    "plt.savefig('south Burlington CS Irradiation')"
   ]
  },
  {
   "cell_type": "code",
   "execution_count": 474,
   "metadata": {},
   "outputs": [],
   "source": [
    "# lsc07_solis.set_index('ts', inplace = True)\n",
    "lsc07_solis = lsc07_solis.join(solpos)\n",
    "lsc07_cs = lsc07_solis.shift(-5)"
   ]
  },
  {
   "cell_type": "code",
   "execution_count": 482,
   "metadata": {},
   "outputs": [],
   "source": [
    "lsc07_cs.dropna(inplace=True)\n",
    "esxv1_cs.dropna(inplace = True)\n",
    "lsc07_cs.drop('ts', axis = 1, inplace = True)\n",
    "esxv1_cs.drop('ts', axis = 1, inplace = True)"
   ]
  },
  {
   "cell_type": "code",
   "execution_count": 483,
   "metadata": {},
   "outputs": [],
   "source": [
    "lsc07_cs.to_csv('lsc07_cs.csv')\n",
    "esxv1_cs.to_csv('esxv1_cs.csv')"
   ]
  },
  {
   "cell_type": "markdown",
   "metadata": {},
   "source": [
    "## adding CS days production\n",
    "\n",
    "We now have 2 years ideal irradiance from a synthetic sun.  For now, we will add our known cs days and interpolate"
   ]
  },
  {
   "cell_type": "code",
   "execution_count": null,
   "metadata": {},
   "outputs": [],
   "source": []
  },
  {
   "cell_type": "code",
   "execution_count": 478,
   "metadata": {},
   "outputs": [],
   "source": [
    "esx_cs_days = esxv1[esxv1['clearday'] == 1]\n",
    "lsc_cs_days = lsc07[lsc07['clearday'] == 1]"
   ]
  },
  {
   "cell_type": "code",
   "execution_count": 479,
   "metadata": {},
   "outputs": [
    {
     "data": {
      "text/plain": [
       "(161, 28)"
      ]
     },
     "execution_count": 479,
     "metadata": {},
     "output_type": "execute_result"
    }
   ],
   "source": [
    "esx_cs_days.shape"
   ]
  },
  {
   "cell_type": "code",
   "execution_count": 484,
   "metadata": {},
   "outputs": [
    {
     "data": {
      "text/html": [
       "<div>\n",
       "<style scoped>\n",
       "    .dataframe tbody tr th:only-of-type {\n",
       "        vertical-align: middle;\n",
       "    }\n",
       "\n",
       "    .dataframe tbody tr th {\n",
       "        vertical-align: top;\n",
       "    }\n",
       "\n",
       "    .dataframe thead th {\n",
       "        text-align: right;\n",
       "    }\n",
       "</style>\n",
       "<table border=\"1\" class=\"dataframe\">\n",
       "  <thead>\n",
       "    <tr style=\"text-align: right;\">\n",
       "      <th></th>\n",
       "      <th>ghi</th>\n",
       "      <th>dni</th>\n",
       "      <th>dhi</th>\n",
       "      <th>apparent_zenith</th>\n",
       "      <th>zenith</th>\n",
       "      <th>apparent_elevation</th>\n",
       "      <th>elevation</th>\n",
       "      <th>azimuth</th>\n",
       "      <th>equation_of_time</th>\n",
       "    </tr>\n",
       "  </thead>\n",
       "  <tbody>\n",
       "    <tr>\n",
       "      <th>2018-01-01</th>\n",
       "      <td>0.0</td>\n",
       "      <td>0.0</td>\n",
       "      <td>0.0</td>\n",
       "      <td>159.14106</td>\n",
       "      <td>159.14106</td>\n",
       "      <td>-69.14106</td>\n",
       "      <td>-69.14106</td>\n",
       "      <td>4.016033</td>\n",
       "      <td>-3.424553</td>\n",
       "    </tr>\n",
       "  </tbody>\n",
       "</table>\n",
       "</div>"
      ],
      "text/plain": [
       "            ghi  dni  dhi  apparent_zenith     zenith  apparent_elevation  \\\n",
       "2018-01-01  0.0  0.0  0.0        159.14106  159.14106           -69.14106   \n",
       "\n",
       "            elevation   azimuth  equation_of_time  \n",
       "2018-01-01  -69.14106  4.016033         -3.424553  "
      ]
     },
     "execution_count": 484,
     "metadata": {},
     "output_type": "execute_result"
    }
   ],
   "source": [
    "lsc07_cs.head(1)"
   ]
  },
  {
   "cell_type": "code",
   "execution_count": 504,
   "metadata": {},
   "outputs": [],
   "source": [
    "lsc07_test = lsc07_cs.join(lsc_cs_days)\n",
    "esxv1_test = esxv1_cs.join(esx_cs_days)"
   ]
  },
  {
   "cell_type": "code",
   "execution_count": 505,
   "metadata": {},
   "outputs": [],
   "source": [
    "lsc07_test = lsc07_test[lsc07_test['clearday'] == 1]\n",
    "esxv1_test = esxv1_test[esxv1_test['clearday'] == 1]"
   ]
  },
  {
   "cell_type": "code",
   "execution_count": 506,
   "metadata": {},
   "outputs": [
    {
     "data": {
      "image/png": "[encoded data removed]",
      "text/plain": [
       "<Figure size 432x288 with 1 Axes>"
      ]
     },
     "metadata": {
      "needs_background": "light"
     },
     "output_type": "display_data"
    }
   ],
   "source": [
    "esxv1_test.ghi.plot();"
   ]
  },
  {
   "cell_type": "code",
   "execution_count": 507,
   "metadata": {},
   "outputs": [],
   "source": [
    "lsc07_corr = pd.DataFrame(lsc07_test, columns = ['ghi', 'kWh'])\n",
    "esxv1_corr = pd.DataFrame(esxv1_test, columns = ['ghi', 'kWh'])"
   ]
  },
  {
   "cell_type": "code",
   "execution_count": 537,
   "metadata": {},
   "outputs": [],
   "source": [
    "lsc07_corr = lsc07_corr[lsc07_corr['ghi'] > 0]"
   ]
  },
  {
   "cell_type": "code",
   "execution_count": 538,
   "metadata": {},
   "outputs": [
    {
     "data": {
      "text/html": [
       "<div>\n",
       "<style scoped>\n",
       "    .dataframe tbody tr th:only-of-type {\n",
       "        vertical-align: middle;\n",
       "    }\n",
       "\n",
       "    .dataframe tbody tr th {\n",
       "        vertical-align: top;\n",
       "    }\n",
       "\n",
       "    .dataframe thead th {\n",
       "        text-align: right;\n",
       "    }\n",
       "</style>\n",
       "<table border=\"1\" class=\"dataframe\">\n",
       "  <thead>\n",
       "    <tr style=\"text-align: right;\">\n",
       "      <th></th>\n",
       "      <th>ghi</th>\n",
       "      <th>kWh</th>\n",
       "    </tr>\n",
       "  </thead>\n",
       "  <tbody>\n",
       "    <tr>\n",
       "      <th>ghi</th>\n",
       "      <td>1.000000</td>\n",
       "      <td>0.779809</td>\n",
       "    </tr>\n",
       "    <tr>\n",
       "      <th>kWh</th>\n",
       "      <td>0.779809</td>\n",
       "      <td>1.000000</td>\n",
       "    </tr>\n",
       "  </tbody>\n",
       "</table>\n",
       "</div>"
      ],
      "text/plain": [
       "          ghi       kWh\n",
       "ghi  1.000000  0.779809\n",
       "kWh  0.779809  1.000000"
      ]
     },
     "execution_count": 538,
     "metadata": {},
     "output_type": "execute_result"
    }
   ],
   "source": [
    "lsc07_corr.corr()"
   ]
  },
  {
   "cell_type": "code",
   "execution_count": 540,
   "metadata": {},
   "outputs": [],
   "source": [
    "esxv1_corr = esxv1_corr[esxv1_corr['ghi'] > 0]"
   ]
  },
  {
   "cell_type": "code",
   "execution_count": 541,
   "metadata": {},
   "outputs": [
    {
     "data": {
      "text/html": [
       "<div>\n",
       "<style scoped>\n",
       "    .dataframe tbody tr th:only-of-type {\n",
       "        vertical-align: middle;\n",
       "    }\n",
       "\n",
       "    .dataframe tbody tr th {\n",
       "        vertical-align: top;\n",
       "    }\n",
       "\n",
       "    .dataframe thead th {\n",
       "        text-align: right;\n",
       "    }\n",
       "</style>\n",
       "<table border=\"1\" class=\"dataframe\">\n",
       "  <thead>\n",
       "    <tr style=\"text-align: right;\">\n",
       "      <th></th>\n",
       "      <th>ghi</th>\n",
       "      <th>kWh</th>\n",
       "    </tr>\n",
       "  </thead>\n",
       "  <tbody>\n",
       "    <tr>\n",
       "      <th>ghi</th>\n",
       "      <td>1.000000</td>\n",
       "      <td>0.845325</td>\n",
       "    </tr>\n",
       "    <tr>\n",
       "      <th>kWh</th>\n",
       "      <td>0.845325</td>\n",
       "      <td>1.000000</td>\n",
       "    </tr>\n",
       "  </tbody>\n",
       "</table>\n",
       "</div>"
      ],
      "text/plain": [
       "          ghi       kWh\n",
       "ghi  1.000000  0.845325\n",
       "kWh  0.845325  1.000000"
      ]
     },
     "execution_count": 541,
     "metadata": {},
     "output_type": "execute_result"
    }
   ],
   "source": [
    "esxv1_corr.corr()"
   ]
  },
  {
   "cell_type": "code",
   "execution_count": 542,
   "metadata": {},
   "outputs": [],
   "source": [
    "lsc07_cs_df= lsc07_cs.join(lsc_cs_days)\n",
    "esxv1_cs_df = esxv1_cs.join(esx_cs_days)"
   ]
  },
  {
   "cell_type": "code",
   "execution_count": 543,
   "metadata": {},
   "outputs": [],
   "source": [
    "lsc07_cs_df['kWh'] = lsc07_cs_df['kWh'].fillna(lsc07_cs_df['ghi']*float(0.779809))"
   ]
  },
  {
   "cell_type": "code",
   "execution_count": 544,
   "metadata": {},
   "outputs": [],
   "source": [
    "esxv1_cs_df['kWh'] = esxv1_cs_df['kWh'].fillna(esxv1_cs_df['ghi']*float(0.845325))"
   ]
  },
  {
   "cell_type": "code",
   "execution_count": 548,
   "metadata": {},
   "outputs": [],
   "source": [
    "lsc07_cs_feb24 = pd.DataFrame(lsc07_cs_df, columns = ['ghi', 'kWh'])\n",
    "esxv1_cs_feb24 = pd.DataFrame(esxv1_cs_df, columns = ['ghi', 'kWh'])"
   ]
  },
  {
   "cell_type": "code",
   "execution_count": 550,
   "metadata": {},
   "outputs": [],
   "source": [
    "lsc07_cs_feb24.to_csv('lsc07_cs_feb24.csv')\n",
    "esxv1_cs_feb24.to_csv('esxv1_cs_feb24.csv')"
   ]
  },
  {
   "cell_type": "code",
   "execution_count": 549,
   "metadata": {},
   "outputs": [
    {
     "data": {
      "image/png": "[encoded data removed]",
      "text/plain": [
       "<Figure size 432x288 with 1 Axes>"
      ]
     },
     "metadata": {
      "needs_background": "light"
     },
     "output_type": "display_data"
    }
   ],
   "source": [
    "esxv1_cs_feb24.plot();"
   ]
  },
  {
   "cell_type": "code",
   "execution_count": null,
   "metadata": {},
   "outputs": [],
   "source": []
  }
 ],
 "metadata": {
  "kernelspec": {
   "display_name": "Python 3",
   "language": "python",
   "name": "python3"
  },
  "language_info": {
   "codemirror_mode": {
    "name": "ipython",
    "version": 3
   },
   "file_extension": ".py",
   "mimetype": "text/x-python",
   "name": "python",
   "nbconvert_exporter": "python",
   "pygments_lexer": "ipython3",
   "version": "3.6.7"
  }
 },
 "nbformat": 4,
 "nbformat_minor": 2
}
