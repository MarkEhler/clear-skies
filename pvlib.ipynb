{
 "cells": [
  {
   "cell_type": "markdown",
   "metadata": {},
   "source": [
    "### PVlib\n",
    "\n",
    "Burlington 44.475883, -73.212074."
   ]
  },
  {
   "cell_type": "code",
   "execution_count": null,
   "metadata": {},
   "outputs": [],
   "source": [
    "import pandas as pd\n",
    "\n",
    "import numpy as np\n",
    "\n",
    "# pvlib imports\n",
    "import pvlib\n",
    "\n",
    "from pvlib.pvsystem import PVSystem\n",
    "from pvlib.location import Location\n",
    "from pvlib.modelchain import ModelChain\n",
    "from pvlib.temperature import TEMPERATURE_MODEL_PARAMETERS\n",
    "\n",
    "temperature_model_parameters = TEMPERATURE_MODEL_PARAMETERS['sapm']['open_rack_glass_glass']\n",
    "\n",
    "# load some module and inverter specifications\n",
    "sandia_modules = pvlib.pvsystem.retrieve_sam('SandiaMod')\n",
    "\n",
    "cec_inverters = pvlib.pvsystem.retrieve_sam('cecinverter')\n",
    "\n",
    "sandia_module = sandia_modules['Canadian_Solar_CS5P_220M___2009_']\n",
    "\n",
    "cec_inverter = cec_inverters['ABB__MICRO_0_25_I_OUTD_US_208__208V_']"
   ]
  },
  {
   "cell_type": "markdown",
   "metadata": {},
   "source": [
    "Creating the location object"
   ]
  },
  {
   "cell_type": "code",
   "execution_count": null,
   "metadata": {},
   "outputs": [],
   "source": [
    "location = Location(latitude=44.475883, longitude=-73.212074)\n",
    "\n",
    "system = PVSystem(surface_tilt=20, surface_azimuth=200,\n",
    "                  module_parameters=sandia_module,\n",
    "                  inverter_parameters=cec_inverter,\n",
    "                  temperature_model_parameters=temperature_model_parameters)\n",
    "\n",
    "\n",
    "mc = ModelChain(system, location)"
   ]
  },
  {
   "cell_type": "code",
   "execution_count": null,
   "metadata": {},
   "outputs": [],
   "source": [
    "print(mc)"
   ]
  },
  {
   "cell_type": "markdown",
   "metadata": {},
   "source": [
    "run test weather data"
   ]
  },
  {
   "cell_type": "code",
   "execution_count": null,
   "metadata": {},
   "outputs": [],
   "source": [
    "weather = pd.DataFrame([[1050, 1000, 100, 30, 5]],\n",
    "                       columns=['ghi', 'dni', 'dhi', 'temp_air', 'wind_speed'],\n",
    "                       index=[pd.Timestamp('20200401 0900', tz='EST')])\n",
    "\n",
    "\n",
    "mc.run_model(weather);"
   ]
  },
  {
   "cell_type": "code",
   "execution_count": null,
   "metadata": {},
   "outputs": [],
   "source": [
    "#angle of incidence\n",
    "mc.aoi"
   ]
  },
  {
   "cell_type": "code",
   "execution_count": null,
   "metadata": {},
   "outputs": [],
   "source": [
    "mc.cell_temperature"
   ]
  },
  {
   "cell_type": "code",
   "execution_count": null,
   "metadata": {},
   "outputs": [],
   "source": [
    "mc.dc"
   ]
  },
  {
   "cell_type": "markdown",
   "metadata": {},
   "source": [
    "i_sc = short circuit current <br>\n",
    "i_mp = Current at maximum power <br>\n",
    "v_oc = Voltage Open Circuit <br>\n",
    "v_mp = Voltage at Maximum Power <br>\n",
    "p_mp =  <br>\n",
    "i_x =  <br>\n",
    "i_xx =  <br>"
   ]
  },
  {
   "cell_type": "code",
   "execution_count": null,
   "metadata": {},
   "outputs": [],
   "source": [
    "mc.ac"
   ]
  },
  {
   "cell_type": "markdown",
   "metadata": {},
   "source": [
    "Albedo is the measure of the diffuse reflection of solar radiation out of the total solar radiation and measured on a scale from 0, corresponding to a black body that absorbs all incident radiation, to 1"
   ]
  },
  {
   "cell_type": "code",
   "execution_count": null,
   "metadata": {},
   "outputs": [],
   "source": [
    "\n",
    "\n"
   ]
  },
  {
   "cell_type": "markdown",
   "metadata": {},
   "source": [
    "#### Sources of Loss\n",
    "\n",
    "can be used to in the PV watts calculator, an option for filling the modelsysten inputs for modelchain. <br>\n",
    "https://pvwatts.nrel.gov/pvwatts.php <br>\n",
    "Understanding these values are a great place to expand our understanding on solar systems. <br>\n",
    "\n",
    "Soiling (%):  <br>\n",
    "Shading (%):  <br>\n",
    "Snow (%):  <br>\n",
    "Mismatch (%):  <br>\n",
    "Wiring (%):  <br>\n",
    "Connections (%):  <br>\n",
    "Light-Induced Degradation (%):  <br>\n",
    "Nameplate Rating (%):  <br>\n",
    "Age (%):  <br>\n",
    "Availability (%): <br>"
   ]
  },
  {
   "cell_type": "markdown",
   "metadata": {},
   "source": [
    "## Example\n",
    "Looking at the problem below we can see an attempt at calling the pvlib model chain."
   ]
  },
  {
   "cell_type": "code",
   "execution_count": 21,
   "metadata": {},
   "outputs": [],
   "source": [
    "# surface_tilt = 30\n",
    "# surface_azimuth = 180\n",
    "# albedo = 0.2\n",
    "# golden = pvlib.location.Location(meta['latitude'], meta['longitude'], tz='US/Mountain', \n",
    "#                                      altitude=meta['altitude'], name=meta['Name'].replace('\"',''))\n",
    "# print(golden)\n",
    "\n",
    "# # Trying to design a 4 kw detailed solar with inverter and modules \n",
    "# sandia_modules = pvlib.pvsystem.retrieve_sam('SandiaMod')\n",
    "# cec_inv = pvlib.pvsystem.retrieve_sam('cecinverter')\n",
    "\n",
    "# module = sandia_modules['SunPower_SPR_220__PVL____2006_']\n",
    "# #module = sandia_modules.Canadian_Solar_CS5P_220M___2009_\n",
    "# inv = cec_inv['SMA_America__SB4000TL_US_22__208V__208V__CEC_2018_']\n",
    "\n",
    "# #Making a system \n",
    "# system = pvlib.pvsystem.PVSystem(module_parameters = module,\n",
    "#                                  inverter_parameters = inv,\n",
    "#                                  surface_tilt = surface_tilt,\n",
    "#                                  surface_azimuth = surface_azimuth,\n",
    "#                                  albedo = albedo,\n",
    "#                                  modules_per_string = 7,\n",
    "#                                  strings_per_inverter = 3)\n",
    "\n",
    "# mc_system = pvlib.modelchain.ModelChain(system, golden)\n",
    "# mc_system.run_model(times = tmy_data.index, weather = tmy_data)"
   ]
  },
  {
   "cell_type": "markdown",
   "metadata": {},
   "source": [
    "#### A useful comment posted in response"
   ]
  },
  {
   "cell_type": "markdown",
   "metadata": {},
   "source": [
    "You're not seeing the variation you're expecting because ModelChain is not able to find irradiance data in your tmy_data and therefore runs the calculation assuming clear sky values.\n",
    "\n",
    "My guess is that you're using unprocessed TMY data read directly from the read_tmy3 function. If so, you'll need to rename your GHI, DNI, and DHI columns in your tmy_data. ModelChain.run_model requires columns named ghi, dni, dhi, and optionally temp_air and wind_speed.\n",
    "\n",
    "Also consider shifting your time index by 30 minutes to account for the difference between the measured hourly intervals and the modeled instantaneous solar position.\n"
   ]
  },
  {
   "cell_type": "code",
   "execution_count": null,
   "metadata": {},
   "outputs": [],
   "source": []
  }
 ],
 "metadata": {
  "kernelspec": {
   "display_name": "Python 3",
   "language": "python",
   "name": "python3"
  },
  "language_info": {
   "codemirror_mode": {
    "name": "ipython",
    "version": 3
   },
   "file_extension": ".py",
   "mimetype": "text/x-python",
   "name": "python",
   "nbconvert_exporter": "python",
   "pygments_lexer": "ipython3",
   "version": "3.6.7"
  }
 },
 "nbformat": 4,
 "nbformat_minor": 2
}
