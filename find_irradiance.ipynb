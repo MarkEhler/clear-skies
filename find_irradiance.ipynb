{
 "cells": [
  {
   "cell_type": "markdown",
   "metadata": {},
   "source": [
    "## Irradiance Calculations"
   ]
  },
  {
   "cell_type": "code",
   "execution_count": 20,
   "metadata": {},
   "outputs": [],
   "source": [
    "from pvlib import irradiance\n",
    "# import rasterio\n",
    "import numpy as np\n",
    "from glob import glob\n",
    "from scipy import stats\n",
    "import os\n",
    "import sys\n",
    "from pvlib.location import Location\n",
    "\n",
    "location = Location(latitude=44.475883, longitude=-73.212074)\n",
    "#inputs times (pd.datetimeindex)\n",
    "#pressure (none/supplied) if none uses atmosphere.alt2pres() and self.altitude\n",
    "#temp"
   ]
  },
  {
   "cell_type": "code",
   "execution_count": 21,
   "metadata": {},
   "outputs": [],
   "source": [
    "import pvlib as pvlib\n",
    "import pandas as pd"
   ]
  },
  {
   "cell_type": "code",
   "execution_count": 22,
   "metadata": {},
   "outputs": [],
   "source": [
    "import datetime\n",
    "now = datetime.datetime.now()\n",
    "df = pd.to_datetime(now)"
   ]
  },
  {
   "cell_type": "markdown",
   "metadata": {},
   "source": [
    "## Solar Position\n",
    "Used to determine Position of the sun given a lat and lon coordinate and time."
   ]
  },
  {
   "cell_type": "code",
   "execution_count": 23,
   "metadata": {},
   "outputs": [
    {
     "data": {
      "text/html": [
       "<div>\n",
       "<style scoped>\n",
       "    .dataframe tbody tr th:only-of-type {\n",
       "        vertical-align: middle;\n",
       "    }\n",
       "\n",
       "    .dataframe tbody tr th {\n",
       "        vertical-align: top;\n",
       "    }\n",
       "\n",
       "    .dataframe thead th {\n",
       "        text-align: right;\n",
       "    }\n",
       "</style>\n",
       "<table border=\"1\" class=\"dataframe\">\n",
       "  <thead>\n",
       "    <tr style=\"text-align: right;\">\n",
       "      <th></th>\n",
       "      <th>apparent_zenith</th>\n",
       "      <th>zenith</th>\n",
       "      <th>apparent_elevation</th>\n",
       "      <th>elevation</th>\n",
       "      <th>azimuth</th>\n",
       "      <th>equation_of_time</th>\n",
       "    </tr>\n",
       "  </thead>\n",
       "  <tbody>\n",
       "    <tr>\n",
       "      <th>2020-04-20 13:44:48.780853</th>\n",
       "      <td>51.506089</td>\n",
       "      <td>51.527073</td>\n",
       "      <td>38.493911</td>\n",
       "      <td>38.472927</td>\n",
       "      <td>114.475096</td>\n",
       "      <td>1.192584</td>\n",
       "    </tr>\n",
       "  </tbody>\n",
       "</table>\n",
       "</div>"
      ],
      "text/plain": [
       "                            apparent_zenith     zenith  apparent_elevation  \\\n",
       "2020-04-20 13:44:48.780853        51.506089  51.527073           38.493911   \n",
       "\n",
       "                            elevation     azimuth  equation_of_time  \n",
       "2020-04-20 13:44:48.780853  38.472927  114.475096          1.192584  "
      ]
     },
     "execution_count": 23,
     "metadata": {},
     "output_type": "execute_result"
    }
   ],
   "source": [
    "df = location.get_solarposition(times = df, temperature = 14) # temp is an optional argument and has little effect on the result\n",
    "df"
   ]
  },
  {
   "cell_type": "markdown",
   "metadata": {},
   "source": [
    "# Relationship Between Sources of Irradiance\n",
    "basic reationship between sources of irratiance. <br>\n",
    "GHI = DNI * cos(SZA) + DHI <br> <br>\n",
    "\n",
    "GHI = Global Horizontal Irradiance <br>\n",
    "SZA =e Solar Zenith Angle <br>\n",
    "DHI = Diffuse Horizontal Irradiance <br>\n",
    "\n",
    "<br>\n",
    "The following are two formulas provided by pvlib to calculate sources of irradiance with likley inputs."
   ]
  },
  {
   "cell_type": "markdown",
   "metadata": {},
   "source": [
    "### ERBS: DNI Given GHI"
   ]
  },
  {
   "cell_type": "code",
   "execution_count": 9,
   "metadata": {},
   "outputs": [],
   "source": [
    "# Estimate DNI and DHI from GHI using Erbs model\n",
    "erbs = irradiance.erbs\n",
    "#INPUTS\n",
    "ghi = 100\n",
    "zenith = df['zenith']\n",
    "datetime_or_doy = df.index\n",
    "min_cos_zenith = None # optional and future research required\n",
    "max_zenith = None # optional and future research required\n",
    "\n",
    "# https://www.sciencedirect.com/science/article/abs/pii/0038092X82903024"
   ]
  },
  {
   "cell_type": "code",
   "execution_count": 10,
   "metadata": {},
   "outputs": [
    {
     "data": {
      "text/plain": [
       "DatetimeIndex(['2020-04-20 10:50:12.194015'], dtype='datetime64[ns]', freq=None)"
      ]
     },
     "execution_count": 10,
     "metadata": {},
     "output_type": "execute_result"
    }
   ],
   "source": [
    "datetime_or_doy"
   ]
  },
  {
   "cell_type": "code",
   "execution_count": 11,
   "metadata": {},
   "outputs": [
    {
     "data": {
      "text/html": [
       "<div>\n",
       "<style scoped>\n",
       "    .dataframe tbody tr th:only-of-type {\n",
       "        vertical-align: middle;\n",
       "    }\n",
       "\n",
       "    .dataframe tbody tr th {\n",
       "        vertical-align: top;\n",
       "    }\n",
       "\n",
       "    .dataframe thead th {\n",
       "        text-align: right;\n",
       "    }\n",
       "</style>\n",
       "<table border=\"1\" class=\"dataframe\">\n",
       "  <thead>\n",
       "    <tr style=\"text-align: right;\">\n",
       "      <th></th>\n",
       "      <th>dni</th>\n",
       "      <th>dhi</th>\n",
       "      <th>kt</th>\n",
       "    </tr>\n",
       "  </thead>\n",
       "  <tbody>\n",
       "    <tr>\n",
       "      <th>2020-04-20 10:50:12.194015</th>\n",
       "      <td>301.12393</td>\n",
       "      <td>58.384674</td>\n",
       "      <td>0.535107</td>\n",
       "    </tr>\n",
       "  </tbody>\n",
       "</table>\n",
       "</div>"
      ],
      "text/plain": [
       "                                  dni        dhi        kt\n",
       "2020-04-20 10:50:12.194015  301.12393  58.384674  0.535107"
      ]
     },
     "execution_count": 11,
     "metadata": {},
     "output_type": "execute_result"
    }
   ],
   "source": [
    "erbs(ghi=ghi, zenith=zenith, datetime_or_doy = datetime_or_doy)"
   ]
  },
  {
   "cell_type": "markdown",
   "metadata": {},
   "source": [
    "#### Alternative DISC Function"
   ]
  },
  {
   "cell_type": "code",
   "execution_count": 12,
   "metadata": {},
   "outputs": [],
   "source": [
    "# Estimate Direct Normal Irradiance from Global Horizontal Irradiance using the DISC model\n",
    "disc = irradiance.disc\n",
    "#INPUTS\n",
    "ghi = 100\n",
    "zenith = df['zenith']\n",
    "datetime_or_doy = df.index\n",
    "pressure = None\n",
    "min_cos_zenith = None\n",
    "max_zenith = None\n",
    "max_airmass = None\n",
    "\n",
    "# https://www.nrel.gov/grid/solar-resource/disc.html"
   ]
  },
  {
   "cell_type": "code",
   "execution_count": 13,
   "metadata": {},
   "outputs": [
    {
     "data": {
      "text/html": [
       "<div>\n",
       "<style scoped>\n",
       "    .dataframe tbody tr th:only-of-type {\n",
       "        vertical-align: middle;\n",
       "    }\n",
       "\n",
       "    .dataframe tbody tr th {\n",
       "        vertical-align: top;\n",
       "    }\n",
       "\n",
       "    .dataframe thead th {\n",
       "        text-align: right;\n",
       "    }\n",
       "</style>\n",
       "<table border=\"1\" class=\"dataframe\">\n",
       "  <thead>\n",
       "    <tr style=\"text-align: right;\">\n",
       "      <th></th>\n",
       "      <th>dni</th>\n",
       "      <th>kt</th>\n",
       "      <th>airmass</th>\n",
       "    </tr>\n",
       "  </thead>\n",
       "  <tbody>\n",
       "    <tr>\n",
       "      <th>2020-04-20 10:50:12.194015</th>\n",
       "      <td>479.812543</td>\n",
       "      <td>0.533584</td>\n",
       "      <td>6.897153</td>\n",
       "    </tr>\n",
       "  </tbody>\n",
       "</table>\n",
       "</div>"
      ],
      "text/plain": [
       "                                   dni        kt   airmass\n",
       "2020-04-20 10:50:12.194015  479.812543  0.533584  6.897153"
      ]
     },
     "execution_count": 13,
     "metadata": {},
     "output_type": "execute_result"
    }
   ],
   "source": [
    "disc(ghi=ghi, solar_zenith=zenith, datetime_or_doy = datetime_or_doy)"
   ]
  },
  {
   "cell_type": "markdown",
   "metadata": {},
   "source": [
    "## Clear Sky Optimal Irradiance"
   ]
  },
  {
   "cell_type": "code",
   "execution_count": 14,
   "metadata": {},
   "outputs": [],
   "source": [
    "# can be used to benchmark forecasted preformance\n",
    "#a couple methods were used in the initial research "
   ]
  },
  {
   "cell_type": "code",
   "execution_count": 15,
   "metadata": {},
   "outputs": [],
   "source": [
    "from pvlib import clearsky, atmosphere, solarposition # a photo voltaic library\n",
    "from pvlib.location import Location # solar calculations \n",
    "# from pvlib.iotools import read_tmy3 # TYM3 files\n",
    "import matplotlib.pyplot as plt"
   ]
  },
  {
   "cell_type": "markdown",
   "metadata": {},
   "source": [
    "### Simplified solis"
   ]
  },
  {
   "cell_type": "code",
   "execution_count": 16,
   "metadata": {},
   "outputs": [
    {
     "data": {
      "text/plain": [
       "1"
      ]
     },
     "execution_count": 16,
     "metadata": {},
     "output_type": "execute_result"
    }
   ],
   "source": [
    "# calculation for finding AOD for all wavelengths <to be implemented>\n",
    "\n",
    "\n",
    "\n",
    "latitude, longitude, tz, altitude, name = 44.48057, -73.170866, 'EST', 100, 'South Burlington'\n",
    "\n",
    "\n",
    "## re-run notebook with a daterange\n",
    "# times = pd.date_range(start='2018-01-01', end='2020-01-01', freq='60min', tz=None)\n",
    "# solpos is for UTC\n",
    "# test_solpos = pvlib.solarposition.get_solarposition(times, latitude, longitude)\n",
    "# esxv1_solpos['ts'] = esxv1_solpos.index\n",
    "# esxv1_solpos = esxv1_solpos.shift(-5)\n",
    "# esxv1_solpos = esxv1_solpos[:-5]\n",
    "# apparent_elevation = test_solpos['apparent_elevation']\n",
    "\n",
    "\n",
    "apparent_elevation = df['apparent_elevation']\n",
    "\n",
    "precipitable_water = 1\n",
    "precipitable_water"
   ]
  },
  {
   "cell_type": "code",
   "execution_count": 17,
   "metadata": {},
   "outputs": [
    {
     "data": {
      "image/png": "[encoded data removed]",
      "text/plain": [
       "<Figure size 432x288 with 1 Axes>"
      ]
     },
     "metadata": {
      "needs_background": "light"
     },
     "output_type": "display_data"
    }
   ],
   "source": [
    "pressure = pvlib.atmosphere.alt2pres(altitude)\n",
    "\n",
    "# aod700nm = atmosphere.angstrom_aod_at_lambda(1.2, 1240, alpha_exponent, 700)\n",
    "# aod700nm\n",
    "aod700 = 0.1 # moving on, will come back to this\n",
    "\n",
    "dni_extra = pvlib.irradiance.get_extra_radiation(datetime_or_doy) ##\n",
    "\n",
    "# # an input is a Series, so solis is a DataFrame\n",
    "## precipitable water was a chart in v0.1\n",
    "test_solis = clearsky.simplified_solis(apparent_elevation, aod700, precipitable_water,\n",
    "                                  pressure, dni_extra)\n",
    "\n",
    "ax = test_solis.plot();\n",
    "\n",
    "ax.set_ylabel('Irradiance $W/m^2$');\n",
    "\n",
    "ax.set_title('Simplified Solis Clear Sky Model');\n",
    "\n",
    "ax.legend(loc='lower left');\n",
    "\n",
    "plt.ylabel('Irradiance $W/m^2$');\n",
    "plt.savefig('South Burlington CS Irradiation')"
   ]
  },
  {
   "cell_type": "code",
   "execution_count": 19,
   "metadata": {},
   "outputs": [
    {
     "data": {
      "text/html": [
       "<div>\n",
       "<style scoped>\n",
       "    .dataframe tbody tr th:only-of-type {\n",
       "        vertical-align: middle;\n",
       "    }\n",
       "\n",
       "    .dataframe tbody tr th {\n",
       "        vertical-align: top;\n",
       "    }\n",
       "\n",
       "    .dataframe thead th {\n",
       "        text-align: right;\n",
       "    }\n",
       "</style>\n",
       "<table border=\"1\" class=\"dataframe\">\n",
       "  <thead>\n",
       "    <tr style=\"text-align: right;\">\n",
       "      <th></th>\n",
       "      <th>ghi</th>\n",
       "      <th>dni</th>\n",
       "      <th>dhi</th>\n",
       "    </tr>\n",
       "  </thead>\n",
       "  <tbody>\n",
       "    <tr>\n",
       "      <th>2020-04-20 10:50:12.194015</th>\n",
       "      <td>93.362382</td>\n",
       "      <td>408.596475</td>\n",
       "      <td>45.656442</td>\n",
       "    </tr>\n",
       "  </tbody>\n",
       "</table>\n",
       "</div>"
      ],
      "text/plain": [
       "                                  ghi         dni        dhi\n",
       "2020-04-20 10:50:12.194015  93.362382  408.596475  45.656442"
      ]
     },
     "execution_count": 19,
     "metadata": {},
     "output_type": "execute_result"
    }
   ],
   "source": [
    "test_solis"
   ]
  },
  {
   "cell_type": "code",
   "execution_count": null,
   "metadata": {},
   "outputs": [],
   "source": []
  },
  {
   "cell_type": "code",
   "execution_count": null,
   "metadata": {},
   "outputs": [],
   "source": []
  }
 ],
 "metadata": {
  "kernelspec": {
   "display_name": "Python 3",
   "language": "python",
   "name": "python3"
  },
  "language_info": {
   "codemirror_mode": {
    "name": "ipython",
    "version": 3
   },
   "file_extension": ".py",
   "mimetype": "text/x-python",
   "name": "python",
   "nbconvert_exporter": "python",
   "pygments_lexer": "ipython3",
   "version": "3.6.7"
  }
 },
 "nbformat": 4,
 "nbformat_minor": 2
}
