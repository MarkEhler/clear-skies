{
 "cells": [
  {
   "cell_type": "markdown",
   "metadata": {},
   "source": [
    "## clear sky irradiance"
   ]
  },
  {
   "cell_type": "code",
   "execution_count": 43,
   "metadata": {},
   "outputs": [],
   "source": [
    "from pvlib import irradiance\n",
    "# import rasterio\n",
    "import numpy as np\n",
    "from glob import glob\n",
    "from scipy import stats\n",
    "import os\n",
    "import sys\n",
    "from pvlib.location import Location\n",
    "\n",
    "location = Location(latitude=44.475883, longitude=-73.212074)\n",
    "#inputs times (pd.datetimeindex)\n",
    "#pressure (none/supplied) if none uses atmosphere.alt2pres() and self.altitude\n",
    "#temp"
   ]
  },
  {
   "cell_type": "code",
   "execution_count": 25,
   "metadata": {},
   "outputs": [],
   "source": [
    "import pvlib as pvlib\n",
    "import pandas as pd"
   ]
  },
  {
   "cell_type": "code",
   "execution_count": 35,
   "metadata": {},
   "outputs": [],
   "source": [
    "import datetime"
   ]
  },
  {
   "cell_type": "code",
   "execution_count": 62,
   "metadata": {},
   "outputs": [],
   "source": [
    "now = datetime.datetime.now()"
   ]
  },
  {
   "cell_type": "code",
   "execution_count": 63,
   "metadata": {},
   "outputs": [],
   "source": [
    "df = pd.to_datetime(now)"
   ]
  },
  {
   "cell_type": "code",
   "execution_count": 64,
   "metadata": {},
   "outputs": [
    {
     "data": {
      "text/plain": [
       "Timestamp('2020-04-14 11:25:18.396244')"
      ]
     },
     "execution_count": 64,
     "metadata": {},
     "output_type": "execute_result"
    }
   ],
   "source": [
    "df"
   ]
  },
  {
   "cell_type": "code",
   "execution_count": 65,
   "metadata": {},
   "outputs": [
    {
     "data": {
      "text/html": [
       "<div>\n",
       "<style scoped>\n",
       "    .dataframe tbody tr th:only-of-type {\n",
       "        vertical-align: middle;\n",
       "    }\n",
       "\n",
       "    .dataframe tbody tr th {\n",
       "        vertical-align: top;\n",
       "    }\n",
       "\n",
       "    .dataframe thead th {\n",
       "        text-align: right;\n",
       "    }\n",
       "</style>\n",
       "<table border=\"1\" class=\"dataframe\">\n",
       "  <thead>\n",
       "    <tr style=\"text-align: right;\">\n",
       "      <th></th>\n",
       "      <th>apparent_zenith</th>\n",
       "      <th>zenith</th>\n",
       "      <th>apparent_elevation</th>\n",
       "      <th>elevation</th>\n",
       "      <th>azimuth</th>\n",
       "      <th>equation_of_time</th>\n",
       "    </tr>\n",
       "  </thead>\n",
       "  <tbody>\n",
       "    <tr>\n",
       "      <th>2020-04-14 11:25:18.396244</th>\n",
       "      <td>77.432433</td>\n",
       "      <td>77.504813</td>\n",
       "      <td>12.567567</td>\n",
       "      <td>12.495187</td>\n",
       "      <td>88.658081</td>\n",
       "      <td>-0.174516</td>\n",
       "    </tr>\n",
       "  </tbody>\n",
       "</table>\n",
       "</div>"
      ],
      "text/plain": [
       "                            apparent_zenith     zenith  apparent_elevation  \\\n",
       "2020-04-14 11:25:18.396244        77.432433  77.504813           12.567567   \n",
       "\n",
       "                            elevation    azimuth  equation_of_time  \n",
       "2020-04-14 11:25:18.396244  12.495187  88.658081         -0.174516  "
      ]
     },
     "execution_count": 65,
     "metadata": {},
     "output_type": "execute_result"
    }
   ],
   "source": [
    "df = location.get_solarposition(times = df, temperature = 14)\n",
    "df"
   ]
  },
  {
   "cell_type": "markdown",
   "metadata": {},
   "source": [
    "# Relationship Between Sources of Irradiance\n",
    "\n",
    "GHI = DNI * cos(SZA) + DHI <br> <br>\n",
    "\n",
    "GHI = Global Horizontal Irradiance <br>\n",
    "SZA =e Solar Zenith Angle <br>\n",
    "DHI = Diffuse Horizontal Irradiance <br>"
   ]
  },
  {
   "cell_type": "code",
   "execution_count": 72,
   "metadata": {},
   "outputs": [],
   "source": [
    "# Estimate DNI and DHI from GHI using Erbs model\n",
    "erbs = irradiance.erbs\n",
    "#INPUTS\n",
    "ghi = 100\n",
    "zenith = df['zenith']\n",
    "datetime_or_doy = df.index\n",
    "min_cos_zenith = None\n",
    "max_zenith = None\n",
    "\n",
    "# https://www.sciencedirect.com/science/article/abs/pii/0038092X82903024"
   ]
  },
  {
   "cell_type": "code",
   "execution_count": 73,
   "metadata": {},
   "outputs": [
    {
     "data": {
      "text/plain": [
       "DatetimeIndex(['2020-04-14 11:25:18.396244'], dtype='datetime64[ns]', freq=None)"
      ]
     },
     "execution_count": 73,
     "metadata": {},
     "output_type": "execute_result"
    }
   ],
   "source": [
    "datetime_or_doy"
   ]
  },
  {
   "cell_type": "code",
   "execution_count": 77,
   "metadata": {},
   "outputs": [
    {
     "data": {
      "text/html": [
       "<div>\n",
       "<style scoped>\n",
       "    .dataframe tbody tr th:only-of-type {\n",
       "        vertical-align: middle;\n",
       "    }\n",
       "\n",
       "    .dataframe tbody tr th {\n",
       "        vertical-align: top;\n",
       "    }\n",
       "\n",
       "    .dataframe thead th {\n",
       "        text-align: right;\n",
       "    }\n",
       "</style>\n",
       "<table border=\"1\" class=\"dataframe\">\n",
       "  <thead>\n",
       "    <tr style=\"text-align: right;\">\n",
       "      <th></th>\n",
       "      <th>dni</th>\n",
       "      <th>dhi</th>\n",
       "      <th>kt</th>\n",
       "    </tr>\n",
       "  </thead>\n",
       "  <tbody>\n",
       "    <tr>\n",
       "      <th>2020-04-14 11:25:18.396244</th>\n",
       "      <td>39.712324</td>\n",
       "      <td>91.407937</td>\n",
       "      <td>0.340642</td>\n",
       "    </tr>\n",
       "  </tbody>\n",
       "</table>\n",
       "</div>"
      ],
      "text/plain": [
       "                                  dni        dhi        kt\n",
       "2020-04-14 11:25:18.396244  39.712324  91.407937  0.340642"
      ]
     },
     "execution_count": 77,
     "metadata": {},
     "output_type": "execute_result"
    }
   ],
   "source": [
    "erbs(ghi=ghi, zenith=zenith, datetime_or_doy = datetime_or_doy)"
   ]
  },
  {
   "cell_type": "code",
   "execution_count": 75,
   "metadata": {},
   "outputs": [],
   "source": [
    "# Estimate Direct Normal Irradiance from Global Horizontal Irradiance using the DISC model\n",
    "disc = irradiance.disc\n",
    "#INPUTS\n",
    "ghi = 100\n",
    "zenith = df['zenith']\n",
    "datetime_or_doy = df.index\n",
    "pressure = None\n",
    "min_cos_zenith = None\n",
    "max_zenith = None\n",
    "max_airmass = None\n",
    "\n",
    "# https://www.nrel.gov/grid/solar-resource/disc.html"
   ]
  },
  {
   "cell_type": "code",
   "execution_count": 76,
   "metadata": {},
   "outputs": [
    {
     "data": {
      "text/html": [
       "<div>\n",
       "<style scoped>\n",
       "    .dataframe tbody tr th:only-of-type {\n",
       "        vertical-align: middle;\n",
       "    }\n",
       "\n",
       "    .dataframe tbody tr th {\n",
       "        vertical-align: top;\n",
       "    }\n",
       "\n",
       "    .dataframe thead th {\n",
       "        text-align: right;\n",
       "    }\n",
       "</style>\n",
       "<table border=\"1\" class=\"dataframe\">\n",
       "  <thead>\n",
       "    <tr style=\"text-align: right;\">\n",
       "      <th></th>\n",
       "      <th>dni</th>\n",
       "      <th>kt</th>\n",
       "      <th>airmass</th>\n",
       "    </tr>\n",
       "  </thead>\n",
       "  <tbody>\n",
       "    <tr>\n",
       "      <th>2020-04-14 11:25:18.396244</th>\n",
       "      <td>89.919055</td>\n",
       "      <td>0.339672</td>\n",
       "      <td>4.52752</td>\n",
       "    </tr>\n",
       "  </tbody>\n",
       "</table>\n",
       "</div>"
      ],
      "text/plain": [
       "                                  dni        kt  airmass\n",
       "2020-04-14 11:25:18.396244  89.919055  0.339672  4.52752"
      ]
     },
     "execution_count": 76,
     "metadata": {},
     "output_type": "execute_result"
    }
   ],
   "source": [
    "disc(ghi=ghi, solar_zenith=zenith, datetime_or_doy = datetime_or_doy)"
   ]
  },
  {
   "cell_type": "markdown",
   "metadata": {},
   "source": [
    "# model one day"
   ]
  },
  {
   "cell_type": "code",
   "execution_count": null,
   "metadata": {},
   "outputs": [],
   "source": [
    "erbs(ghi=ghi, zenith=zenith, datetime_or_doy = datetime_or_doy)"
   ]
  }
 ],
 "metadata": {
  "kernelspec": {
   "display_name": "Python 3",
   "language": "python",
   "name": "python3"
  },
  "language_info": {
   "codemirror_mode": {
    "name": "ipython",
    "version": 3
   },
   "file_extension": ".py",
   "mimetype": "text/x-python",
   "name": "python",
   "nbconvert_exporter": "python",
   "pygments_lexer": "ipython3",
   "version": "3.6.7"
  }
 },
 "nbformat": 4,
 "nbformat_minor": 2
}
