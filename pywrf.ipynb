{
 "cells": [
  {
   "cell_type": "code",
   "execution_count": 48,
   "metadata": {},
   "outputs": [],
   "source": [
    "import numpy as np\n",
    "from netCDF4 import Dataset # http://code.google.com/p/netcdf4-python/\n",
    "import pandas as pd\n",
    "import os\n",
    "\n",
    "lat, lon = 44.475883, -73.212074\n",
    "\n",
    "f = Dataset('wrfot_d01_2020-03-24_00_00_00', 'r') # Read es para leer\n",
    "latbounds = [ lat ] # Punctual values\n",
    "lonbounds = [ lon ] # degrees east ? # Valores límites\n",
    "cor_lat = pd.DataFrame(f.variables['XLAT'][0][:])\n",
    "cor_lat2 = pd.DataFrame({'a':cor_lat.iloc[:,0], 'b':abs(cor_lat.iloc[:,0] - latbounds)})\n",
    "a = cor_lat2[cor_lat2.b == min(cor_lat2.b)].index[0]\n",
    "cor_lon = pd.DataFrame(f.variables['XLONG'][0][:])\n",
    "cor_lon2 = pd.DataFrame({'a':cor_lon.iloc[0,:], 'b':abs(cor_lon.iloc[0,:] - lonbounds)})\n",
    "b = cor_lon2[cor_lon2.b == min(cor_lon2.b)].index[0]\n",
    "vlr = (f.variables['T2'][ : , 73 , 80 ] - 273.15)[0]\n"
   ]
  },
  {
   "cell_type": "code",
   "execution_count": 14,
   "metadata": {},
   "outputs": [
    {
     "name": "stdout",
     "output_type": "stream",
     "text": [
      "odict_keys(['Times', 'XLAT', 'XLONG', 'LU_INDEX', 'ZNU', 'ZNW', 'ZS', 'DZS', 'VAR_SSO', 'U', 'V', 'W', 'PH', 'PHB', 'T', 'THM', 'HFX_FORCE', 'LH_FORCE', 'TSK_FORCE', 'HFX_FORCE_TEND', 'LH_FORCE_TEND', 'TSK_FORCE_TEND', 'MU', 'MUB', 'NEST_POS', 'P', 'PB', 'FNM', 'FNP', 'RDNW', 'RDN', 'DNW', 'DN', 'CFN', 'CFN1', 'THIS_IS_AN_IDEAL_RUN', 'P_HYD', 'Q2', 'T2', 'TH2', 'PSFC', 'U10', 'V10', 'RDX', 'RDY', 'RESM', 'ZETATOP', 'CF1', 'CF2', 'CF3', 'ITIMESTEP', 'XTIME', 'QVAPOR', 'QCLOUD', 'QRAIN', 'QICE', 'QSNOW', 'QGRAUP', 'QNICE', 'QNRAIN', 'SHDMAX', 'SHDMIN', 'SNOALB', 'TSLB', 'SMOIS', 'SH2O', 'SMCREL', 'SEAICE', 'XICEM', 'SFROFF', 'UDROFF', 'IVGTYP', 'ISLTYP', 'VEGFRA', 'GRDFLX', 'ACGRDFLX', 'ACSNOM', 'SNOW', 'SNOWH', 'CANWAT', 'SSTSK', 'COSZEN', 'LAI', 'DTAUX3D', 'DTAUY3D', 'DUSFCG', 'DVSFCG', 'VAR', 'CON', 'OA1', 'OA2', 'OA3', 'OA4', 'OL1', 'OL2', 'OL3', 'OL4', 'TKE_PBL', 'EL_PBL', 'MAPFAC_M', 'MAPFAC_U', 'MAPFAC_V', 'MAPFAC_MX', 'MAPFAC_MY', 'MAPFAC_UX', 'MAPFAC_UY', 'MAPFAC_VX', 'MF_VX_INV', 'MAPFAC_VY', 'F', 'E', 'SINALPHA', 'COSALPHA', 'HGT', 'TSK', 'P_TOP', 'T00', 'P00', 'TLP', 'TISO', 'TLP_STRAT', 'P_STRAT', 'MAX_MSTFX', 'MAX_MSTFY', 'RAINC', 'RAINSH', 'RAINNC', 'SNOWNC', 'GRAUPELNC', 'HAILNC', 'CLDFRA', 'SWDOWN', 'GLW', 'SWNORM', 'ACSWUPT', 'ACSWUPTC', 'ACSWDNT', 'ACSWDNTC', 'ACSWUPB', 'ACSWUPBC', 'ACSWDNB', 'ACSWDNBC', 'ACLWUPT', 'ACLWUPTC', 'ACLWDNT', 'ACLWDNTC', 'ACLWUPB', 'ACLWUPBC', 'ACLWDNB', 'ACLWDNBC', 'SWUPT', 'SWUPTC', 'SWDNT', 'SWDNTC', 'SWUPB', 'SWUPBC', 'SWDNB', 'SWDNBC', 'LWUPT', 'LWUPTC', 'LWDNT', 'LWDNTC', 'LWUPB', 'LWUPBC', 'LWDNB', 'LWDNBC', 'OLR', 'XLAT_U', 'XLONG_U', 'XLAT_V', 'XLONG_V', 'ALBEDO', 'CLAT', 'ALBBCK', 'EMISS', 'NOAHRES', 'TMN', 'XLAND', 'UST', 'PBLH', 'HFX', 'QFX', 'LH', 'ACHFX', 'ACLHF', 'SNOWC', 'SR', 'SAVE_TOPO_FROM_REAL', 'ISEEDARR_SPPT', 'ISEEDARR_SKEBS', 'ISEEDARR_RAND_PERTURB', 'ISEEDARRAY_SPP_CONV', 'ISEEDARRAY_SPP_PBL', 'ISEEDARRAY_SPP_LSM', 'C1H', 'C2H', 'C1F', 'C2F', 'C3H', 'C4H', 'C3F', 'C4F', 'PCB', 'PC', 'LANDMASK', 'LAKEMASK', 'SST', 'SST_INPUT'])\n"
     ]
    }
   ],
   "source": [
    "print(f.variables.keys())"
   ]
  },
  {
   "cell_type": "code",
   "execution_count": 16,
   "metadata": {},
   "outputs": [
    {
     "data": {
      "text/plain": [
       "<class 'netCDF4._netCDF4.Variable'>\n",
       "float32 T2(Time, south_north, west_east)\n",
       "    FieldType: 104\n",
       "    MemoryOrder: XY \n",
       "    description: TEMP at 2 M\n",
       "    units: K\n",
       "    stagger: \n",
       "    coordinates: XLONG XLAT XTIME\n",
       "unlimited dimensions: Time\n",
       "current shape = (1, 149, 149)\n",
       "filling on, default _FillValue of 9.969209968386869e+36 used"
      ]
     },
     "execution_count": 16,
     "metadata": {},
     "output_type": "execute_result"
    }
   ],
   "source": [
    "f.variables['T2']"
   ]
  },
  {
   "cell_type": "code",
   "execution_count": 2,
   "metadata": {},
   "outputs": [
    {
     "data": {
      "text/plain": [
       "-4.3303833"
      ]
     },
     "execution_count": 2,
     "metadata": {},
     "output_type": "execute_result"
    }
   ],
   "source": [
    "vlr"
   ]
  },
  {
   "cell_type": "code",
   "execution_count": 4,
   "metadata": {},
   "outputs": [],
   "source": [
    "wrfs = [f for f in os.listdir() if f.startswith('wrfout')]"
   ]
  },
  {
   "cell_type": "code",
   "execution_count": 46,
   "metadata": {},
   "outputs": [
    {
     "name": "stdout",
     "output_type": "stream",
     "text": [
      "wrfout0\n",
      "7.1491394 *C\n",
      "wrfout2\n",
      "5.0428467 *C\n",
      "wrfout3\n",
      "4.860565 *C\n",
      "wrfout4\n",
      "4.5597534 *C\n",
      "wrfout5\n",
      "4.0802917 *C\n",
      "wrfout6\n",
      "2.563446 *C\n"
     ]
    }
   ],
   "source": [
    "for fi in wrfs:\n",
    "    print(fi)\n",
    "    point = Dataset(fi, 'r')\n",
    "    latbounds = [ lat ] # Punctual values\n",
    "    lonbounds = [ lon ] # degrees east ? # Valores límites\n",
    "    cor_lat = pd.DataFrame(point.variables['XLAT'][0][:])\n",
    "    cor_lat2 = pd.DataFrame({'a':cor_lat.iloc[:,0], 'b':abs(cor_lat.iloc[:,0] - latbounds)})\n",
    "    a = cor_lat2[cor_lat2.b == min(cor_lat2.b)].index[0]\n",
    "    cor_lon = pd.DataFrame(point.variables['XLONG'][0][:])\n",
    "    cor_lon2 = pd.DataFrame({'a':cor_lon.iloc[0,:], 'b':abs(cor_lon.iloc[0,:] - lonbounds)})\n",
    "    b = cor_lon2[cor_lon2.b == min(cor_lon2.b)].index[0]\n",
    "    vlr = (point.variables['T2'][ : , 80 , 73 ] - 273.15)[0]\n",
    "    print(vlr, \"*C\")"
   ]
  },
  {
   "cell_type": "code",
   "execution_count": 38,
   "metadata": {},
   "outputs": [
    {
     "data": {
      "text/plain": [
       "<class 'netCDF4._netCDF4.Variable'>\n",
       "float32 XLAT(Time, south_north, west_east)\n",
       "    FieldType: 104\n",
       "    MemoryOrder: XY \n",
       "    description: LATITUDE, SOUTH IS NEGATIVE\n",
       "    units: degree_north\n",
       "    stagger: \n",
       "    coordinates: XLONG XLAT\n",
       "unlimited dimensions: Time\n",
       "current shape = (1, 149, 149)\n",
       "filling on, default _FillValue of 9.969209968386869e+36 used"
      ]
     },
     "execution_count": 38,
     "metadata": {},
     "output_type": "execute_result"
    }
   ],
   "source": [
    "f.variables['XLAT']"
   ]
  },
  {
   "cell_type": "code",
   "execution_count": 39,
   "metadata": {},
   "outputs": [
    {
     "data": {
      "text/plain": [
       "0"
      ]
     },
     "execution_count": 39,
     "metadata": {},
     "output_type": "execute_result"
    }
   ],
   "source": [
    "b"
   ]
  },
  {
   "cell_type": "code",
   "execution_count": 37,
   "metadata": {},
   "outputs": [
    {
     "data": {
      "text/plain": [
       "masked_array(data=25.9943,\n",
       "             mask=False,\n",
       "       fill_value=1e+20,\n",
       "            dtype=float32)"
      ]
     },
     "execution_count": 37,
     "metadata": {},
     "output_type": "execute_result"
    }
   ],
   "source": [
    "f.variables['XLAT'][0,0,84]"
   ]
  },
  {
   "cell_type": "code",
   "execution_count": 40,
   "metadata": {},
   "outputs": [
    {
     "data": {
      "text/plain": [
       "52"
      ]
     },
     "execution_count": 40,
     "metadata": {},
     "output_type": "execute_result"
    }
   ],
   "source": [
    "a"
   ]
  },
  {
   "cell_type": "code",
   "execution_count": 49,
   "metadata": {},
   "outputs": [
    {
     "name": "stdout",
     "output_type": "stream",
     "text": [
      "odict_keys(['time', 'DateTime', 'year', 'month', 'day', 'hour', 'minute', 'pressure', 'eta', 'p_top', 'lat', 'lon', 'Z_sfc', 'SST', 'T_sfc', 'p_sfc', 'slp', 'T_2m', 'Td_2m', 'r_v_2m', 'q_2m', 'rh_2m', 'u_10m_gr', 'v_10m_gr', 'u_10m_tr', 'v_10m_tr', 'ws_10m', 'wd_10m', 'precip_g', 'precip_c', 'r_cloud', 'r_rain', 'r_ice', 'r_snow', 'r_graup', 'Z_p', 'T_p', 'Td_p', 'r_v_p', 'q_p', 'u_tr_p', 'v_tr_p', 'SW_d', 'LW_d', 'albedo', 'SH', 'LH', 'u_star', 'LWP', 'IWP', 'LandMask', 'LandUse', 'SeaIce'])\n"
     ]
    }
   ],
   "source": [
    "f = Dataset('wrfpost.nc')\n",
    "print(f.variables.keys())"
   ]
  },
  {
   "cell_type": "code",
   "execution_count": 59,
   "metadata": {},
   "outputs": [
    {
     "data": {
      "text/plain": [
       "(1,)"
      ]
     },
     "execution_count": 59,
     "metadata": {},
     "output_type": "execute_result"
    }
   ],
   "source": [
    "f.variables['time']"
   ]
  },
  {
   "cell_type": "code",
   "execution_count": 50,
   "metadata": {},
   "outputs": [],
   "source": [
    "surface_temp = f.variables['T_sfc']"
   ]
  },
  {
   "cell_type": "code",
   "execution_count": 51,
   "metadata": {},
   "outputs": [
    {
     "data": {
      "text/plain": [
       "<class 'netCDF4._netCDF4.Variable'>\n",
       "float32 T_sfc(time, south_north, west_east)\n",
       "    long_name: Temperature at the Surface\n",
       "    standard_name: surface_temperature\n",
       "    units: K\n",
       "    _FillValue: 1e+20\n",
       "    coordinates: lon lat\n",
       "unlimited dimensions: time\n",
       "current shape = (1, 149, 149)\n",
       "filling on"
      ]
     },
     "execution_count": 51,
     "metadata": {},
     "output_type": "execute_result"
    }
   ],
   "source": [
    "surface_temp"
   ]
  },
  {
   "cell_type": "code",
   "execution_count": 60,
   "metadata": {},
   "outputs": [],
   "source": [
    "wrfs = [f for f in os.listdir() if f.startswith('wrfpost')]"
   ]
  },
  {
   "cell_type": "code",
   "execution_count": 62,
   "metadata": {},
   "outputs": [
    {
     "name": "stdout",
     "output_type": "stream",
     "text": [
      "wrfpost.nc\n",
      "5.194763 *C\n",
      "wrfpost1.nc\n",
      "4.2414856 *C\n"
     ]
    }
   ],
   "source": [
    "for fi in wrfs:\n",
    "    print(fi)\n",
    "    point = Dataset(fi, 'r')\n",
    "    latbounds = [ lat ] # Punctual values\n",
    "    lonbounds = [ lon ] # degrees east ? # Valores límites\n",
    "    cor_lat = pd.DataFrame(point.variables['lat'][0][:])\n",
    "    cor_lat2 = pd.DataFrame({'a':cor_lat.iloc[:,0], 'b':abs(cor_lat.iloc[:,0] - latbounds)})\n",
    "    a = cor_lat2[cor_lat2.b == min(cor_lat2.b)].index[0]\n",
    "    cor_lon = pd.DataFrame(point.variables['lon'][0][:])\n",
    "    cor_lon2 = pd.DataFrame({'a':cor_lon.iloc[0,:], 'b':abs(cor_lon.iloc[0,:] - lonbounds)})\n",
    "    b = cor_lon2[cor_lon2.b == min(cor_lon2.b)].index[0]\n",
    "    vlr = (point.variables['T_sfc'][ : , 80 , 73 ] - 273.15)[0]\n",
    "    print(vlr, \"*C\")"
   ]
  },
  {
   "cell_type": "code",
   "execution_count": 54,
   "metadata": {},
   "outputs": [
    {
     "data": {
      "text/plain": [
       "5.194763"
      ]
     },
     "execution_count": 54,
     "metadata": {},
     "output_type": "execute_result"
    }
   ],
   "source": [
    "vlr"
   ]
  },
  {
   "cell_type": "code",
   "execution_count": null,
   "metadata": {},
   "outputs": [],
   "source": []
  }
 ],
 "metadata": {
  "kernelspec": {
   "display_name": "Python 3",
   "language": "python",
   "name": "python3"
  },
  "language_info": {
   "codemirror_mode": {
    "name": "ipython",
    "version": 3
   },
   "file_extension": ".py",
   "mimetype": "text/x-python",
   "name": "python",
   "nbconvert_exporter": "python",
   "pygments_lexer": "ipython3",
   "version": "3.6.7"
  }
 },
 "nbformat": 4,
 "nbformat_minor": 2
}
